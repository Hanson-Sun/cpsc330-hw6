{
 "cells": [
  {
   "cell_type": "code",
   "execution_count": 1,
   "metadata": {
    "deletable": false,
    "editable": false
   },
   "outputs": [],
   "source": [
    "# Initialize Otter\n",
    "import otter\n",
    "grader = otter.Notebook(\"hw6.ipynb\")"
   ]
  },
  {
   "cell_type": "markdown",
   "metadata": {},
   "source": [
    "# CPSC 330 - Applied Machine Learning \n",
    "\n",
    "## Homework 6: Clustering\n",
    "### Associated lectures: Lectures 15 and 16\n",
    "\n",
    "**Due date: Check the [Calendar](https://htmlpreview.github.io/?https://github.com/UBC-CS/cpsc330/blob/master/docs/calendar.html)**"
   ]
  },
  {
   "cell_type": "markdown",
   "metadata": {},
   "source": [
    "## Imports <a name=\"im\"></a>"
   ]
  },
  {
   "cell_type": "code",
   "execution_count": 2,
   "metadata": {},
   "outputs": [],
   "source": [
    "import os\n",
    "from hashlib import sha1\n",
    "\n",
    "import matplotlib.pyplot as plt\n",
    "import numpy as np\n",
    "import pandas as pd\n",
    "\n",
    "%matplotlib inline\n",
    "pd.set_option(\"display.max_colwidth\", 0)"
   ]
  },
  {
   "cell_type": "markdown",
   "metadata": {},
   "source": [
    "<br><br><br><br>"
   ]
  },
  {
   "cell_type": "markdown",
   "metadata": {
    "deletable": false,
    "editable": false,
    "slideshow": {
     "slide_type": ""
    },
    "tags": []
   },
   "source": [
    "<!-- BEGIN QUESTION -->\n",
    "\n",
    "<div class=\"alert alert-info\">\n",
    "    \n",
    "## Submission instructions\n",
    "<hr>\n",
    "rubric={points:6}\n",
    "\n",
    "**Please be aware that this homework assignment requires installation of several packages in your course environment. It's possible that you'll encounter installation challenges, which might be frustrating. However, remember that solving these issues is not wasting time but it is an essential skill for anyone aspiring to work in data science or machine learning.**\n",
    "\n",
    "Follow the [homework submission instructions](https://github.com/UBC-CS/cpsc330-2023W1/blob/main/docs/homework_instructions.md). \n",
    "\n",
    "**You may work in a group on this homework and submit your assignment as a group.** Below are some instructions on working as a group.  \n",
    "- The maximum group size is 4. \n",
    "- Use group work as an opportunity to collaborate and learn new things from each other. \n",
    "- Be respectful to each other and make sure you understand all the concepts in the assignment well. \n",
    "- It's your responsibility to make sure that the assignment is submitted by one of the group members before the deadline. \n",
    "- You can find the instructions on how to do group submission on Gradescope [here](https://help.gradescope.com/article/m5qz2xsnjy-student-add-group-members).\n",
    "\n",
    "\n",
    "When you are ready to submit your assignment do the following:\n",
    "\n",
    "1. Run all cells in your notebook to make sure there are no errors by doing `Kernel -> Restart Kernel and Clear All Outputs` and then `Run -> Run All Cells`. \n",
    "2. Notebooks with cell execution numbers out of order or not starting from “1” will have marks deducted. Notebooks without the output displayed may not be graded at all (because we need to see the output in order to grade your work).\n",
    "3. Upload the assignment using Gradescope's drag and drop tool. Check out this [Gradescope Student Guide](https://lthub.ubc.ca/guides/gradescope-student-guide/) if you need help with Gradescope submission.\n",
    "4. Make sure that the plots and output are rendered properly in your submitted file. \n",
    "5. If the .ipynb file is too big and doesn't render on Gradescope, also upload a pdf or html in addition to the .ipynb. If the pdf or html also fail to render on Gradescope, please create two files for your homework: hw6a.ipynb with Exercise 1 and hw6b.ipynb with Exercises 2 and 3 and submit these two files in your submission.  \n",
    "</div>\n",
    "\n",
    "_Points:_ 6"
   ]
  },
  {
   "cell_type": "markdown",
   "metadata": {
    "deletable": false,
    "editable": false
   },
   "source": [
    "<!-- END QUESTION -->\n",
    "\n",
    "<br><br><br><br>"
   ]
  },
  {
   "cell_type": "markdown",
   "metadata": {},
   "source": [
    "## Exercise 1: Document clustering warm-up\n",
    "<hr>\n",
    "\n",
    "In this homework, we will explore a popular application of clustering called [**document clustering**](https://en.wikipedia.org/wiki/Document_clustering). A large amount of unlabeled text data is available out there (e.g., news, recipes, online Q&A, tweets), and clustering is a commonly used technique to organize this data in a meaningful way. \n",
    "\n",
    "As a warm up, in this exercise you will cluster sentences from a toy corpus. Later in the homework you will work with a real corpus. \n",
    "\n",
    "The code below extracts introductory sentences of Wikipedia articles on a set of queries. To run the code successfully, you will need the `wikipedia` package installed in the course environment. \n",
    "\n",
    "```\n",
    "conda activate cpsc330\n",
    "conda install -c conda-forge wikipedia\n",
    "```\n",
    "\n",
    "\n",
    "**Your tasks:**\n",
    "\n",
    "Run the code below which \n",
    "- extracts content of Wikipedia articles on a set of queries\n",
    "- tokenizes the text (i.e., separates sentences) and \n",
    "- stores the 2nd sentence in each article as a document representing that article\n",
    "\n",
    "> Feel free to experiment with Wikipedia queries of your choice. But stick to the provided list for the final submission so that it's easier for the TAs to grade your submission.\n",
    "\n",
    "> For tokenization we are using the `nltk` package. If you do not have this package in the course environment, you will have to install it.\n",
    "\n",
    "```\n",
    "conda activate cpsc330\n",
    "conda install -c anaconda nltk\n",
    "```\n",
    "\n",
    "Even if you have the package installed via the course `conda` environment, you might have to download `nltk` pre-trained models, which can be done with the code below."
   ]
  },
  {
   "cell_type": "code",
   "execution_count": 3,
   "metadata": {},
   "outputs": [
    {
     "name": "stderr",
     "output_type": "stream",
     "text": [
      "[nltk_data] Downloading package punkt to\n",
      "[nltk_data]     C:\\Users\\cedar\\AppData\\Roaming\\nltk_data...\n",
      "[nltk_data]   Package punkt is already up-to-date!\n",
      "[nltk_data] Downloading package punkt_tab to\n",
      "[nltk_data]     C:\\Users\\cedar\\AppData\\Roaming\\nltk_data...\n",
      "[nltk_data]   Package punkt_tab is already up-to-date!\n"
     ]
    },
    {
     "data": {
      "text/plain": [
       "True"
      ]
     },
     "execution_count": 3,
     "metadata": {},
     "output_type": "execute_result"
    }
   ],
   "source": [
    "import nltk\n",
    "\n",
    "nltk.download(\"punkt\")\n",
    "nltk.download('punkt_tab')"
   ]
  },
  {
   "cell_type": "code",
   "execution_count": 4,
   "metadata": {},
   "outputs": [
    {
     "data": {
      "text/html": [
       "<div>\n",
       "<style scoped>\n",
       "    .dataframe tbody tr th:only-of-type {\n",
       "        vertical-align: middle;\n",
       "    }\n",
       "\n",
       "    .dataframe tbody tr th {\n",
       "        vertical-align: top;\n",
       "    }\n",
       "\n",
       "    .dataframe thead th {\n",
       "        text-align: right;\n",
       "    }\n",
       "</style>\n",
       "<table border=\"1\" class=\"dataframe\">\n",
       "  <thead>\n",
       "    <tr style=\"text-align: right;\">\n",
       "      <th></th>\n",
       "      <th>wiki query</th>\n",
       "      <th>text</th>\n",
       "      <th>n_words</th>\n",
       "    </tr>\n",
       "  </thead>\n",
       "  <tbody>\n",
       "    <tr>\n",
       "      <th>0</th>\n",
       "      <td>baguette food</td>\n",
       "      <td>It is distinguishable by its length and crisp crust.</td>\n",
       "      <td>10</td>\n",
       "    </tr>\n",
       "    <tr>\n",
       "      <th>1</th>\n",
       "      <td>banana bread food</td>\n",
       "      <td>It is often a moist and sweet quick bread but some recipes are yeast raised.</td>\n",
       "      <td>16</td>\n",
       "    </tr>\n",
       "    <tr>\n",
       "      <th>2</th>\n",
       "      <td>bread food</td>\n",
       "      <td>Throughout recorded history and around the world, it has been an important part of many cultures' diet.</td>\n",
       "      <td>20</td>\n",
       "    </tr>\n",
       "    <tr>\n",
       "      <th>3</th>\n",
       "      <td>data science</td>\n",
       "      <td>Data science also integrates domain knowledge from the underlying application domain (e.g., natural sciences, information technology, and medicine).</td>\n",
       "      <td>24</td>\n",
       "    </tr>\n",
       "    <tr>\n",
       "      <th>4</th>\n",
       "      <td>sports analytics</td>\n",
       "      <td>The term \"sports analytics\" was popularized in mainstream sports culture following the release of the 2011 film Moneyball.</td>\n",
       "      <td>21</td>\n",
       "    </tr>\n",
       "    <tr>\n",
       "      <th>5</th>\n",
       "      <td>football sport</td>\n",
       "      <td>Often competitive and organized, sports use, maintain, or improve physical ability and skills.</td>\n",
       "      <td>17</td>\n",
       "    </tr>\n",
       "    <tr>\n",
       "      <th>6</th>\n",
       "      <td>ice hockey</td>\n",
       "      <td>It belongs to a family of sports called hockey.</td>\n",
       "      <td>10</td>\n",
       "    </tr>\n",
       "  </tbody>\n",
       "</table>\n",
       "</div>"
      ],
      "text/plain": [
       "          wiki query  \\\n",
       "0  baguette food       \n",
       "1  banana bread food   \n",
       "2  bread food          \n",
       "3  data science        \n",
       "4  sports analytics    \n",
       "5  football sport      \n",
       "6  ice hockey          \n",
       "\n",
       "                                                                                                                                                   text  \\\n",
       "0  It is distinguishable by its length and crisp crust.                                                                                                   \n",
       "1  It is often a moist and sweet quick bread but some recipes are yeast raised.                                                                           \n",
       "2  Throughout recorded history and around the world, it has been an important part of many cultures' diet.                                                \n",
       "3  Data science also integrates domain knowledge from the underlying application domain (e.g., natural sciences, information technology, and medicine).   \n",
       "4  The term \"sports analytics\" was popularized in mainstream sports culture following the release of the 2011 film Moneyball.                             \n",
       "5  Often competitive and organized, sports use, maintain, or improve physical ability and skills.                                                         \n",
       "6  It belongs to a family of sports called hockey.                                                                                                        \n",
       "\n",
       "   n_words  \n",
       "0  10       \n",
       "1  16       \n",
       "2  20       \n",
       "3  24       \n",
       "4  21       \n",
       "5  17       \n",
       "6  10       "
      ]
     },
     "execution_count": 4,
     "metadata": {},
     "output_type": "execute_result"
    }
   ],
   "source": [
    "import wikipedia\n",
    "from nltk.tokenize import sent_tokenize, word_tokenize\n",
    "\n",
    "queries = [\n",
    "    \"baguette food\",\n",
    "    \"banana bread food\",\n",
    "    \"bread food\",\n",
    "    \"data science\",\n",
    "    \"sports analytics\",\n",
    "    \"football sport\",\n",
    "    \"ice hockey\",\n",
    "]\n",
    "\n",
    "wiki_dict = {\"wiki query\": [], \"text\": [], \"n_words\": []}\n",
    "for i in range(len(queries)):\n",
    "    text = sent_tokenize(wikipedia.page(queries[i]).content)[1]\n",
    "    wiki_dict[\"text\"].append(text)\n",
    "    wiki_dict[\"n_words\"].append(len(word_tokenize(text)))\n",
    "    wiki_dict[\"wiki query\"].append(queries[i])\n",
    "\n",
    "wiki_df = pd.DataFrame(wiki_dict)\n",
    "wiki_df"
   ]
  },
  {
   "cell_type": "markdown",
   "metadata": {},
   "source": [
    "Our toy corpus has six toy documents (`text` column in the dataframe) extracted from Wikipedia queries. "
   ]
  },
  {
   "cell_type": "markdown",
   "metadata": {},
   "source": [
    "<br><br>"
   ]
  },
  {
   "cell_type": "markdown",
   "metadata": {
    "deletable": false,
    "editable": false
   },
   "source": [
    "<!-- BEGIN QUESTION -->\n",
    "\n",
    "### 1.1 How many clusters? \n",
    "rubric={points}\n",
    "\n",
    "\n",
    "**Your tasks:**\n",
    "\n",
    "1. If you are asked to cluster the documents from this toy corpus manually, how many clusters would you identify and how would you label each cluster?   "
   ]
  },
  {
   "cell_type": "markdown",
   "metadata": {
    "deletable": false,
    "editable": false
   },
   "source": [
    "<div class=\"alert alert-warning\">\n",
    "\n",
    "Solution_1.1\n",
    "    \n",
    "</div>\n",
    "\n",
    "_Points:_ 1"
   ]
  },
  {
   "cell_type": "markdown",
   "metadata": {},
   "source": [
    "I would expect to see the following 3 clusrters:\n",
    "1. Food\n",
    "2. Data Science\n",
    "3. Sports"
   ]
  },
  {
   "cell_type": "markdown",
   "metadata": {
    "deletable": false,
    "editable": false
   },
   "source": [
    "<!-- END QUESTION -->\n",
    "\n",
    "<br><br>"
   ]
  },
  {
   "cell_type": "markdown",
   "metadata": {
    "deletable": false,
    "editable": false
   },
   "source": [
    "<!-- BEGIN QUESTION -->\n",
    "\n",
    "### 1.2 `KMeans` with bag-of-words representation \n",
    "rubric={points}\n",
    "\n",
    "In the lecture, we saw that data representation plays a crucial role in clustering. Changing flattened representation of images to feature vectors extracted from pre-trained models greatly improved the quality of clustering. \n",
    "\n",
    "What kind of representation is suitable for text data? We have used bag-of-words representation to numerically encode text data before, where each document is represented with a vector of word frequencies. \n",
    "\n",
    "Let's try clustering documents with this simplistic representation.  \n",
    "\n",
    "**Your tasks:**\n",
    "\n",
    "1. Create bag-of-words representation using [`CountVectorizer`](https://scikit-learn.org/stable/modules/generated/sklearn.feature_extraction.text.CountVectorizer.html) with default arguments for the `text` column in `wiki_df` above.\n",
    "2. Cluster the encoded documents with [`KMeans` clustering](https://scikit-learn.org/stable/modules/generated/sklearn.cluster.KMeans.html). Use `random_state=42` (for reproducibility) and set `n_clusters` to the number you identified in the previous exercise.\n",
    "3. Store the clustering labels in `kmeans_bow_labels` variable below. "
   ]
  },
  {
   "cell_type": "markdown",
   "metadata": {
    "deletable": false,
    "editable": false
   },
   "source": [
    "<div class=\"alert alert-warning\">\n",
    "\n",
    "Solution_1.2\n",
    "    \n",
    "</div>\n",
    "\n",
    "_Points:_ 4"
   ]
  },
  {
   "cell_type": "code",
   "execution_count": 5,
   "metadata": {
    "tags": []
   },
   "outputs": [
    {
     "data": {
      "text/html": [
       "<div>\n",
       "<style scoped>\n",
       "    .dataframe tbody tr th:only-of-type {\n",
       "        vertical-align: middle;\n",
       "    }\n",
       "\n",
       "    .dataframe tbody tr th {\n",
       "        vertical-align: top;\n",
       "    }\n",
       "\n",
       "    .dataframe thead th {\n",
       "        text-align: right;\n",
       "    }\n",
       "</style>\n",
       "<table border=\"1\" class=\"dataframe\">\n",
       "  <thead>\n",
       "    <tr style=\"text-align: right;\">\n",
       "      <th></th>\n",
       "      <th>2011</th>\n",
       "      <th>ability</th>\n",
       "      <th>also</th>\n",
       "      <th>an</th>\n",
       "      <th>analytics</th>\n",
       "      <th>and</th>\n",
       "      <th>application</th>\n",
       "      <th>are</th>\n",
       "      <th>around</th>\n",
       "      <th>been</th>\n",
       "      <th>...</th>\n",
       "      <th>technology</th>\n",
       "      <th>term</th>\n",
       "      <th>the</th>\n",
       "      <th>throughout</th>\n",
       "      <th>to</th>\n",
       "      <th>underlying</th>\n",
       "      <th>use</th>\n",
       "      <th>was</th>\n",
       "      <th>world</th>\n",
       "      <th>yeast</th>\n",
       "    </tr>\n",
       "  </thead>\n",
       "  <tbody>\n",
       "    <tr>\n",
       "      <th>0</th>\n",
       "      <td>0</td>\n",
       "      <td>0</td>\n",
       "      <td>0</td>\n",
       "      <td>0</td>\n",
       "      <td>0</td>\n",
       "      <td>1</td>\n",
       "      <td>0</td>\n",
       "      <td>0</td>\n",
       "      <td>0</td>\n",
       "      <td>0</td>\n",
       "      <td>...</td>\n",
       "      <td>0</td>\n",
       "      <td>0</td>\n",
       "      <td>0</td>\n",
       "      <td>0</td>\n",
       "      <td>0</td>\n",
       "      <td>0</td>\n",
       "      <td>0</td>\n",
       "      <td>0</td>\n",
       "      <td>0</td>\n",
       "      <td>0</td>\n",
       "    </tr>\n",
       "    <tr>\n",
       "      <th>1</th>\n",
       "      <td>0</td>\n",
       "      <td>0</td>\n",
       "      <td>0</td>\n",
       "      <td>0</td>\n",
       "      <td>0</td>\n",
       "      <td>1</td>\n",
       "      <td>0</td>\n",
       "      <td>1</td>\n",
       "      <td>0</td>\n",
       "      <td>0</td>\n",
       "      <td>...</td>\n",
       "      <td>0</td>\n",
       "      <td>0</td>\n",
       "      <td>0</td>\n",
       "      <td>0</td>\n",
       "      <td>0</td>\n",
       "      <td>0</td>\n",
       "      <td>0</td>\n",
       "      <td>0</td>\n",
       "      <td>0</td>\n",
       "      <td>1</td>\n",
       "    </tr>\n",
       "    <tr>\n",
       "      <th>2</th>\n",
       "      <td>0</td>\n",
       "      <td>0</td>\n",
       "      <td>0</td>\n",
       "      <td>1</td>\n",
       "      <td>0</td>\n",
       "      <td>1</td>\n",
       "      <td>0</td>\n",
       "      <td>0</td>\n",
       "      <td>1</td>\n",
       "      <td>1</td>\n",
       "      <td>...</td>\n",
       "      <td>0</td>\n",
       "      <td>0</td>\n",
       "      <td>1</td>\n",
       "      <td>1</td>\n",
       "      <td>0</td>\n",
       "      <td>0</td>\n",
       "      <td>0</td>\n",
       "      <td>0</td>\n",
       "      <td>1</td>\n",
       "      <td>0</td>\n",
       "    </tr>\n",
       "    <tr>\n",
       "      <th>3</th>\n",
       "      <td>0</td>\n",
       "      <td>0</td>\n",
       "      <td>1</td>\n",
       "      <td>0</td>\n",
       "      <td>0</td>\n",
       "      <td>1</td>\n",
       "      <td>1</td>\n",
       "      <td>0</td>\n",
       "      <td>0</td>\n",
       "      <td>0</td>\n",
       "      <td>...</td>\n",
       "      <td>1</td>\n",
       "      <td>0</td>\n",
       "      <td>1</td>\n",
       "      <td>0</td>\n",
       "      <td>0</td>\n",
       "      <td>1</td>\n",
       "      <td>0</td>\n",
       "      <td>0</td>\n",
       "      <td>0</td>\n",
       "      <td>0</td>\n",
       "    </tr>\n",
       "    <tr>\n",
       "      <th>4</th>\n",
       "      <td>1</td>\n",
       "      <td>0</td>\n",
       "      <td>0</td>\n",
       "      <td>0</td>\n",
       "      <td>1</td>\n",
       "      <td>0</td>\n",
       "      <td>0</td>\n",
       "      <td>0</td>\n",
       "      <td>0</td>\n",
       "      <td>0</td>\n",
       "      <td>...</td>\n",
       "      <td>0</td>\n",
       "      <td>1</td>\n",
       "      <td>3</td>\n",
       "      <td>0</td>\n",
       "      <td>0</td>\n",
       "      <td>0</td>\n",
       "      <td>0</td>\n",
       "      <td>1</td>\n",
       "      <td>0</td>\n",
       "      <td>0</td>\n",
       "    </tr>\n",
       "    <tr>\n",
       "      <th>5</th>\n",
       "      <td>0</td>\n",
       "      <td>1</td>\n",
       "      <td>0</td>\n",
       "      <td>0</td>\n",
       "      <td>0</td>\n",
       "      <td>2</td>\n",
       "      <td>0</td>\n",
       "      <td>0</td>\n",
       "      <td>0</td>\n",
       "      <td>0</td>\n",
       "      <td>...</td>\n",
       "      <td>0</td>\n",
       "      <td>0</td>\n",
       "      <td>0</td>\n",
       "      <td>0</td>\n",
       "      <td>0</td>\n",
       "      <td>0</td>\n",
       "      <td>1</td>\n",
       "      <td>0</td>\n",
       "      <td>0</td>\n",
       "      <td>0</td>\n",
       "    </tr>\n",
       "    <tr>\n",
       "      <th>6</th>\n",
       "      <td>0</td>\n",
       "      <td>0</td>\n",
       "      <td>0</td>\n",
       "      <td>0</td>\n",
       "      <td>0</td>\n",
       "      <td>0</td>\n",
       "      <td>0</td>\n",
       "      <td>0</td>\n",
       "      <td>0</td>\n",
       "      <td>0</td>\n",
       "      <td>...</td>\n",
       "      <td>0</td>\n",
       "      <td>0</td>\n",
       "      <td>0</td>\n",
       "      <td>0</td>\n",
       "      <td>1</td>\n",
       "      <td>0</td>\n",
       "      <td>0</td>\n",
       "      <td>0</td>\n",
       "      <td>0</td>\n",
       "      <td>0</td>\n",
       "    </tr>\n",
       "  </tbody>\n",
       "</table>\n",
       "<p>7 rows × 76 columns</p>\n",
       "</div>"
      ],
      "text/plain": [
       "   2011  ability  also  an  analytics  and  application  are  around  been  \\\n",
       "0  0     0        0     0   0          1    0            0    0       0      \n",
       "1  0     0        0     0   0          1    0            1    0       0      \n",
       "2  0     0        0     1   0          1    0            0    1       1      \n",
       "3  0     0        1     0   0          1    1            0    0       0      \n",
       "4  1     0        0     0   1          0    0            0    0       0      \n",
       "5  0     1        0     0   0          2    0            0    0       0      \n",
       "6  0     0        0     0   0          0    0            0    0       0      \n",
       "\n",
       "   ...  technology  term  the  throughout  to  underlying  use  was  world  \\\n",
       "0  ...  0           0     0    0           0   0           0    0    0       \n",
       "1  ...  0           0     0    0           0   0           0    0    0       \n",
       "2  ...  0           0     1    1           0   0           0    0    1       \n",
       "3  ...  1           0     1    0           0   1           0    0    0       \n",
       "4  ...  0           1     3    0           0   0           0    1    0       \n",
       "5  ...  0           0     0    0           0   0           1    0    0       \n",
       "6  ...  0           0     0    0           1   0           0    0    0       \n",
       "\n",
       "   yeast  \n",
       "0  0      \n",
       "1  1      \n",
       "2  0      \n",
       "3  0      \n",
       "4  0      \n",
       "5  0      \n",
       "6  0      \n",
       "\n",
       "[7 rows x 76 columns]"
      ]
     },
     "execution_count": 5,
     "metadata": {},
     "output_type": "execute_result"
    }
   ],
   "source": [
    "# count vectorizer\n",
    "from sklearn.feature_extraction.text import CountVectorizer\n",
    "\n",
    "vectorizer = CountVectorizer()\n",
    "bag_of_words = pd.DataFrame(vectorizer.fit_transform(wiki_df[\"text\"]).toarray(), columns=vectorizer.get_feature_names_out())\n",
    "bag_of_words"
   ]
  },
  {
   "cell_type": "code",
   "execution_count": 6,
   "metadata": {
    "tags": []
   },
   "outputs": [
    {
     "data": {
      "text/plain": [
       "array([1, 2, 0, 1, 1, 1, 1], dtype=int32)"
      ]
     },
     "execution_count": 6,
     "metadata": {},
     "output_type": "execute_result"
    }
   ],
   "source": [
    "from sklearn.cluster import KMeans\n",
    "\n",
    "kmeans_bow_labels = KMeans(n_clusters=3, random_state=42).fit_predict(bag_of_words)\n",
    "kmeans_bow_labels"
   ]
  },
  {
   "cell_type": "code",
   "execution_count": 7,
   "metadata": {
    "tags": []
   },
   "outputs": [
    {
     "data": {
      "text/html": [
       "<div>\n",
       "<style scoped>\n",
       "    .dataframe tbody tr th:only-of-type {\n",
       "        vertical-align: middle;\n",
       "    }\n",
       "\n",
       "    .dataframe tbody tr th {\n",
       "        vertical-align: top;\n",
       "    }\n",
       "\n",
       "    .dataframe thead th {\n",
       "        text-align: right;\n",
       "    }\n",
       "</style>\n",
       "<table border=\"1\" class=\"dataframe\">\n",
       "  <thead>\n",
       "    <tr style=\"text-align: right;\">\n",
       "      <th></th>\n",
       "      <th>wiki query</th>\n",
       "      <th>text</th>\n",
       "      <th>n_words</th>\n",
       "      <th>bow_kmeans</th>\n",
       "    </tr>\n",
       "  </thead>\n",
       "  <tbody>\n",
       "    <tr>\n",
       "      <th>0</th>\n",
       "      <td>baguette food</td>\n",
       "      <td>It is distinguishable by its length and crisp crust.</td>\n",
       "      <td>10</td>\n",
       "      <td>1</td>\n",
       "    </tr>\n",
       "    <tr>\n",
       "      <th>1</th>\n",
       "      <td>banana bread food</td>\n",
       "      <td>It is often a moist and sweet quick bread but some recipes are yeast raised.</td>\n",
       "      <td>16</td>\n",
       "      <td>2</td>\n",
       "    </tr>\n",
       "    <tr>\n",
       "      <th>2</th>\n",
       "      <td>bread food</td>\n",
       "      <td>Throughout recorded history and around the world, it has been an important part of many cultures' diet.</td>\n",
       "      <td>20</td>\n",
       "      <td>0</td>\n",
       "    </tr>\n",
       "    <tr>\n",
       "      <th>3</th>\n",
       "      <td>data science</td>\n",
       "      <td>Data science also integrates domain knowledge from the underlying application domain (e.g., natural sciences, information technology, and medicine).</td>\n",
       "      <td>24</td>\n",
       "      <td>1</td>\n",
       "    </tr>\n",
       "    <tr>\n",
       "      <th>4</th>\n",
       "      <td>sports analytics</td>\n",
       "      <td>The term \"sports analytics\" was popularized in mainstream sports culture following the release of the 2011 film Moneyball.</td>\n",
       "      <td>21</td>\n",
       "      <td>1</td>\n",
       "    </tr>\n",
       "    <tr>\n",
       "      <th>5</th>\n",
       "      <td>football sport</td>\n",
       "      <td>Often competitive and organized, sports use, maintain, or improve physical ability and skills.</td>\n",
       "      <td>17</td>\n",
       "      <td>1</td>\n",
       "    </tr>\n",
       "    <tr>\n",
       "      <th>6</th>\n",
       "      <td>ice hockey</td>\n",
       "      <td>It belongs to a family of sports called hockey.</td>\n",
       "      <td>10</td>\n",
       "      <td>1</td>\n",
       "    </tr>\n",
       "  </tbody>\n",
       "</table>\n",
       "</div>"
      ],
      "text/plain": [
       "          wiki query  \\\n",
       "0  baguette food       \n",
       "1  banana bread food   \n",
       "2  bread food          \n",
       "3  data science        \n",
       "4  sports analytics    \n",
       "5  football sport      \n",
       "6  ice hockey          \n",
       "\n",
       "                                                                                                                                                   text  \\\n",
       "0  It is distinguishable by its length and crisp crust.                                                                                                   \n",
       "1  It is often a moist and sweet quick bread but some recipes are yeast raised.                                                                           \n",
       "2  Throughout recorded history and around the world, it has been an important part of many cultures' diet.                                                \n",
       "3  Data science also integrates domain knowledge from the underlying application domain (e.g., natural sciences, information technology, and medicine).   \n",
       "4  The term \"sports analytics\" was popularized in mainstream sports culture following the release of the 2011 film Moneyball.                             \n",
       "5  Often competitive and organized, sports use, maintain, or improve physical ability and skills.                                                         \n",
       "6  It belongs to a family of sports called hockey.                                                                                                        \n",
       "\n",
       "   n_words  bow_kmeans  \n",
       "0  10       1           \n",
       "1  16       2           \n",
       "2  20       0           \n",
       "3  24       1           \n",
       "4  21       1           \n",
       "5  17       1           \n",
       "6  10       1           "
      ]
     },
     "execution_count": 7,
     "metadata": {},
     "output_type": "execute_result"
    }
   ],
   "source": [
    "wiki_df[\"bow_kmeans\"] = kmeans_bow_labels\n",
    "wiki_df"
   ]
  },
  {
   "cell_type": "markdown",
   "metadata": {
    "deletable": false,
    "editable": false
   },
   "source": [
    "<!-- END QUESTION -->\n",
    "\n",
    "<br><br>"
   ]
  },
  {
   "cell_type": "markdown",
   "metadata": {
    "deletable": false,
    "editable": false
   },
   "source": [
    "<!-- BEGIN QUESTION -->\n",
    "\n",
    "### 1.3 Sentence embedding representation\n",
    "rubric={points}\n",
    "\n",
    "Bag-of-words representation is limited in that it does not take into account word ordering and context. There are other richer and more expressive representations of text which can be extracted using transfer learning. In this lab, we will use one such representation called sentence embedding representation, which uses deep learning models to generate dense, fixed-length vector representations for sentences. We will extract such representations using sentence transformer package. Sentence embedding takes into account context of words and semantic meaning of sentences and it is likely to work better when we are interested in clustering sentences based on their semantic similarity. \n",
    "\n",
    "```\n",
    "conda activate cpsc330\n",
    "conda install pytorch::pytorch torchvision torchaudio -c pytorch\n",
    "conda install -c conda-forge sentence-transformers\n",
    "```\n",
    "\n",
    "**Your tasks:**\n",
    "\n",
    "1. Run the code below to create sentence embedding representation of documents in our toy corpus. \n",
    "2. Cluster documents in our toy corpus encoded with this representation (`emb_sents`) and `KMeans` with following arguments: \n",
    "    - `random_state=42` (for reproducibility)\n",
    "    - `n_clusters`=the number of clusters you identified in 1.1\n",
    "3. Store the clustering labels in `kmeans_emb_labels` variable below. "
   ]
  },
  {
   "cell_type": "code",
   "execution_count": 8,
   "metadata": {
    "deletable": false,
    "editable": false
   },
   "outputs": [
    {
     "name": "stderr",
     "output_type": "stream",
     "text": [
      "C:\\Users\\cedar\\miniconda3\\envs\\cpsc330\\Lib\\site-packages\\sentence_transformers\\cross_encoder\\CrossEncoder.py:13: TqdmExperimentalWarning: Using `tqdm.autonotebook.tqdm` in notebook mode. Use `tqdm.tqdm` instead to force console mode (e.g. in jupyter console)\n",
      "  from tqdm.autonotebook import tqdm, trange\n"
     ]
    }
   ],
   "source": [
    "from sentence_transformers import SentenceTransformer\n",
    "\n",
    "embedder = SentenceTransformer(\"paraphrase-distilroberta-base-v1\")\n",
    "\n",
    "# If this cell gives an error, try updating transformers with\n",
    "# pip install transformers -U"
   ]
  },
  {
   "cell_type": "code",
   "execution_count": 9,
   "metadata": {
    "deletable": false,
    "editable": false,
    "metadata": {
     "tags": [
      "otter_ignore"
     ]
    }
   },
   "outputs": [
    {
     "data": {
      "text/html": [
       "<div>\n",
       "<style scoped>\n",
       "    .dataframe tbody tr th:only-of-type {\n",
       "        vertical-align: middle;\n",
       "    }\n",
       "\n",
       "    .dataframe tbody tr th {\n",
       "        vertical-align: top;\n",
       "    }\n",
       "\n",
       "    .dataframe thead th {\n",
       "        text-align: right;\n",
       "    }\n",
       "</style>\n",
       "<table border=\"1\" class=\"dataframe\">\n",
       "  <thead>\n",
       "    <tr style=\"text-align: right;\">\n",
       "      <th></th>\n",
       "      <th>0</th>\n",
       "      <th>1</th>\n",
       "      <th>2</th>\n",
       "      <th>3</th>\n",
       "      <th>4</th>\n",
       "      <th>5</th>\n",
       "      <th>6</th>\n",
       "      <th>7</th>\n",
       "      <th>8</th>\n",
       "      <th>9</th>\n",
       "      <th>...</th>\n",
       "      <th>758</th>\n",
       "      <th>759</th>\n",
       "      <th>760</th>\n",
       "      <th>761</th>\n",
       "      <th>762</th>\n",
       "      <th>763</th>\n",
       "      <th>764</th>\n",
       "      <th>765</th>\n",
       "      <th>766</th>\n",
       "      <th>767</th>\n",
       "    </tr>\n",
       "  </thead>\n",
       "  <tbody>\n",
       "    <tr>\n",
       "      <th>0</th>\n",
       "      <td>0.186268</td>\n",
       "      <td>0.286701</td>\n",
       "      <td>0.058714</td>\n",
       "      <td>0.095216</td>\n",
       "      <td>-0.136911</td>\n",
       "      <td>0.091687</td>\n",
       "      <td>-0.029694</td>\n",
       "      <td>-0.104941</td>\n",
       "      <td>0.174888</td>\n",
       "      <td>0.482772</td>\n",
       "      <td>...</td>\n",
       "      <td>0.025579</td>\n",
       "      <td>-0.078821</td>\n",
       "      <td>0.470531</td>\n",
       "      <td>-0.209694</td>\n",
       "      <td>-0.379226</td>\n",
       "      <td>0.409230</td>\n",
       "      <td>-0.299176</td>\n",
       "      <td>0.155533</td>\n",
       "      <td>0.309284</td>\n",
       "      <td>0.124819</td>\n",
       "    </tr>\n",
       "    <tr>\n",
       "      <th>1</th>\n",
       "      <td>-0.202058</td>\n",
       "      <td>0.320748</td>\n",
       "      <td>0.190347</td>\n",
       "      <td>0.232201</td>\n",
       "      <td>0.600542</td>\n",
       "      <td>0.376622</td>\n",
       "      <td>-0.018205</td>\n",
       "      <td>-0.027148</td>\n",
       "      <td>-0.076679</td>\n",
       "      <td>0.381883</td>\n",
       "      <td>...</td>\n",
       "      <td>0.213062</td>\n",
       "      <td>-0.080009</td>\n",
       "      <td>0.422756</td>\n",
       "      <td>0.072725</td>\n",
       "      <td>0.016024</td>\n",
       "      <td>-0.014596</td>\n",
       "      <td>-0.202858</td>\n",
       "      <td>-0.162947</td>\n",
       "      <td>-0.190418</td>\n",
       "      <td>-0.002013</td>\n",
       "    </tr>\n",
       "    <tr>\n",
       "      <th>2</th>\n",
       "      <td>-0.022418</td>\n",
       "      <td>0.217159</td>\n",
       "      <td>0.022694</td>\n",
       "      <td>0.003616</td>\n",
       "      <td>0.240857</td>\n",
       "      <td>0.358046</td>\n",
       "      <td>-0.053310</td>\n",
       "      <td>-0.328075</td>\n",
       "      <td>0.190012</td>\n",
       "      <td>0.244470</td>\n",
       "      <td>...</td>\n",
       "      <td>0.265413</td>\n",
       "      <td>-0.415595</td>\n",
       "      <td>0.003036</td>\n",
       "      <td>0.052483</td>\n",
       "      <td>0.345947</td>\n",
       "      <td>0.110091</td>\n",
       "      <td>0.405441</td>\n",
       "      <td>0.197792</td>\n",
       "      <td>-0.058254</td>\n",
       "      <td>0.212376</td>\n",
       "    </tr>\n",
       "    <tr>\n",
       "      <th>3</th>\n",
       "      <td>0.270839</td>\n",
       "      <td>0.187923</td>\n",
       "      <td>-0.010779</td>\n",
       "      <td>0.318688</td>\n",
       "      <td>-0.092012</td>\n",
       "      <td>-0.204805</td>\n",
       "      <td>0.038100</td>\n",
       "      <td>-0.117648</td>\n",
       "      <td>0.084057</td>\n",
       "      <td>-0.170613</td>\n",
       "      <td>...</td>\n",
       "      <td>0.069944</td>\n",
       "      <td>-0.222987</td>\n",
       "      <td>0.092472</td>\n",
       "      <td>0.309445</td>\n",
       "      <td>0.289248</td>\n",
       "      <td>0.021022</td>\n",
       "      <td>-0.032694</td>\n",
       "      <td>-0.624041</td>\n",
       "      <td>0.358924</td>\n",
       "      <td>-0.034092</td>\n",
       "    </tr>\n",
       "    <tr>\n",
       "      <th>4</th>\n",
       "      <td>-0.101732</td>\n",
       "      <td>-0.185133</td>\n",
       "      <td>-0.107290</td>\n",
       "      <td>0.148192</td>\n",
       "      <td>0.458464</td>\n",
       "      <td>-0.555426</td>\n",
       "      <td>-0.073999</td>\n",
       "      <td>0.001754</td>\n",
       "      <td>-0.172459</td>\n",
       "      <td>-0.072560</td>\n",
       "      <td>...</td>\n",
       "      <td>0.428589</td>\n",
       "      <td>-0.340837</td>\n",
       "      <td>-0.159756</td>\n",
       "      <td>0.388600</td>\n",
       "      <td>0.316263</td>\n",
       "      <td>0.090864</td>\n",
       "      <td>-0.162352</td>\n",
       "      <td>-0.225394</td>\n",
       "      <td>0.417017</td>\n",
       "      <td>-0.179008</td>\n",
       "    </tr>\n",
       "    <tr>\n",
       "      <th>5</th>\n",
       "      <td>0.124750</td>\n",
       "      <td>0.327760</td>\n",
       "      <td>0.287334</td>\n",
       "      <td>-0.108246</td>\n",
       "      <td>0.024023</td>\n",
       "      <td>-0.123068</td>\n",
       "      <td>0.256753</td>\n",
       "      <td>-0.186897</td>\n",
       "      <td>0.207024</td>\n",
       "      <td>0.225442</td>\n",
       "      <td>...</td>\n",
       "      <td>0.476354</td>\n",
       "      <td>-0.425226</td>\n",
       "      <td>0.153235</td>\n",
       "      <td>0.176923</td>\n",
       "      <td>0.036420</td>\n",
       "      <td>0.104009</td>\n",
       "      <td>-0.137498</td>\n",
       "      <td>0.265884</td>\n",
       "      <td>0.431444</td>\n",
       "      <td>0.173652</td>\n",
       "    </tr>\n",
       "    <tr>\n",
       "      <th>6</th>\n",
       "      <td>0.108901</td>\n",
       "      <td>0.087364</td>\n",
       "      <td>0.119847</td>\n",
       "      <td>-0.050134</td>\n",
       "      <td>0.240211</td>\n",
       "      <td>-0.082101</td>\n",
       "      <td>0.190988</td>\n",
       "      <td>0.436203</td>\n",
       "      <td>-0.085558</td>\n",
       "      <td>-0.012788</td>\n",
       "      <td>...</td>\n",
       "      <td>0.145414</td>\n",
       "      <td>0.160033</td>\n",
       "      <td>0.071930</td>\n",
       "      <td>0.147640</td>\n",
       "      <td>0.043789</td>\n",
       "      <td>0.253031</td>\n",
       "      <td>-0.009357</td>\n",
       "      <td>0.415205</td>\n",
       "      <td>0.142142</td>\n",
       "      <td>0.130365</td>\n",
       "    </tr>\n",
       "  </tbody>\n",
       "</table>\n",
       "<p>7 rows × 768 columns</p>\n",
       "</div>"
      ],
      "text/plain": [
       "          0         1         2         3         4         5         6  \\\n",
       "0  0.186268  0.286701  0.058714  0.095216 -0.136911  0.091687 -0.029694   \n",
       "1 -0.202058  0.320748  0.190347  0.232201  0.600542  0.376622 -0.018205   \n",
       "2 -0.022418  0.217159  0.022694  0.003616  0.240857  0.358046 -0.053310   \n",
       "3  0.270839  0.187923 -0.010779  0.318688 -0.092012 -0.204805  0.038100   \n",
       "4 -0.101732 -0.185133 -0.107290  0.148192  0.458464 -0.555426 -0.073999   \n",
       "5  0.124750  0.327760  0.287334 -0.108246  0.024023 -0.123068  0.256753   \n",
       "6  0.108901  0.087364  0.119847 -0.050134  0.240211 -0.082101  0.190988   \n",
       "\n",
       "          7         8         9  ...       758       759       760       761  \\\n",
       "0 -0.104941  0.174888  0.482772  ...  0.025579 -0.078821  0.470531 -0.209694   \n",
       "1 -0.027148 -0.076679  0.381883  ...  0.213062 -0.080009  0.422756  0.072725   \n",
       "2 -0.328075  0.190012  0.244470  ...  0.265413 -0.415595  0.003036  0.052483   \n",
       "3 -0.117648  0.084057 -0.170613  ...  0.069944 -0.222987  0.092472  0.309445   \n",
       "4  0.001754 -0.172459 -0.072560  ...  0.428589 -0.340837 -0.159756  0.388600   \n",
       "5 -0.186897  0.207024  0.225442  ...  0.476354 -0.425226  0.153235  0.176923   \n",
       "6  0.436203 -0.085558 -0.012788  ...  0.145414  0.160033  0.071930  0.147640   \n",
       "\n",
       "        762       763       764       765       766       767  \n",
       "0 -0.379226  0.409230 -0.299176  0.155533  0.309284  0.124819  \n",
       "1  0.016024 -0.014596 -0.202858 -0.162947 -0.190418 -0.002013  \n",
       "2  0.345947  0.110091  0.405441  0.197792 -0.058254  0.212376  \n",
       "3  0.289248  0.021022 -0.032694 -0.624041  0.358924 -0.034092  \n",
       "4  0.316263  0.090864 -0.162352 -0.225394  0.417017 -0.179008  \n",
       "5  0.036420  0.104009 -0.137498  0.265884  0.431444  0.173652  \n",
       "6  0.043789  0.253031 -0.009357  0.415205  0.142142  0.130365  \n",
       "\n",
       "[7 rows x 768 columns]"
      ]
     },
     "execution_count": 9,
     "metadata": {},
     "output_type": "execute_result"
    }
   ],
   "source": [
    "emb_sents = embedder.encode(wiki_df[\"text\"])\n",
    "emb_sent_df = pd.DataFrame(emb_sents, index=wiki_df.index)\n",
    "emb_sent_df"
   ]
  },
  {
   "cell_type": "markdown",
   "metadata": {
    "deletable": false,
    "editable": false
   },
   "source": [
    "<div class=\"alert alert-warning\">\n",
    "\n",
    "Solution_1.3\n",
    "    \n",
    "</div>\n",
    "\n",
    "_Points:_ 3"
   ]
  },
  {
   "cell_type": "code",
   "execution_count": 10,
   "metadata": {
    "tags": []
   },
   "outputs": [
    {
     "data": {
      "text/plain": [
       "Ellipsis"
      ]
     },
     "execution_count": 10,
     "metadata": {},
     "output_type": "execute_result"
    }
   ],
   "source": [
    "..."
   ]
  },
  {
   "cell_type": "code",
   "execution_count": 11,
   "metadata": {
    "tags": []
   },
   "outputs": [],
   "source": [
    "kmeans_emb_labels = KMeans(n_clusters=3, random_state=42).fit_predict(emb_sent_df)"
   ]
  },
  {
   "cell_type": "code",
   "execution_count": 12,
   "metadata": {
    "tags": []
   },
   "outputs": [
    {
     "data": {
      "text/html": [
       "<div>\n",
       "<style scoped>\n",
       "    .dataframe tbody tr th:only-of-type {\n",
       "        vertical-align: middle;\n",
       "    }\n",
       "\n",
       "    .dataframe tbody tr th {\n",
       "        vertical-align: top;\n",
       "    }\n",
       "\n",
       "    .dataframe thead th {\n",
       "        text-align: right;\n",
       "    }\n",
       "</style>\n",
       "<table border=\"1\" class=\"dataframe\">\n",
       "  <thead>\n",
       "    <tr style=\"text-align: right;\">\n",
       "      <th></th>\n",
       "      <th>wiki query</th>\n",
       "      <th>text</th>\n",
       "      <th>n_words</th>\n",
       "      <th>bow_kmeans</th>\n",
       "      <th>emb_kmeans</th>\n",
       "    </tr>\n",
       "  </thead>\n",
       "  <tbody>\n",
       "    <tr>\n",
       "      <th>0</th>\n",
       "      <td>baguette food</td>\n",
       "      <td>It is distinguishable by its length and crisp crust.</td>\n",
       "      <td>10</td>\n",
       "      <td>1</td>\n",
       "      <td>2</td>\n",
       "    </tr>\n",
       "    <tr>\n",
       "      <th>1</th>\n",
       "      <td>banana bread food</td>\n",
       "      <td>It is often a moist and sweet quick bread but some recipes are yeast raised.</td>\n",
       "      <td>16</td>\n",
       "      <td>2</td>\n",
       "      <td>2</td>\n",
       "    </tr>\n",
       "    <tr>\n",
       "      <th>2</th>\n",
       "      <td>bread food</td>\n",
       "      <td>Throughout recorded history and around the world, it has been an important part of many cultures' diet.</td>\n",
       "      <td>20</td>\n",
       "      <td>0</td>\n",
       "      <td>0</td>\n",
       "    </tr>\n",
       "    <tr>\n",
       "      <th>3</th>\n",
       "      <td>data science</td>\n",
       "      <td>Data science also integrates domain knowledge from the underlying application domain (e.g., natural sciences, information technology, and medicine).</td>\n",
       "      <td>24</td>\n",
       "      <td>1</td>\n",
       "      <td>1</td>\n",
       "    </tr>\n",
       "    <tr>\n",
       "      <th>4</th>\n",
       "      <td>sports analytics</td>\n",
       "      <td>The term \"sports analytics\" was popularized in mainstream sports culture following the release of the 2011 film Moneyball.</td>\n",
       "      <td>21</td>\n",
       "      <td>1</td>\n",
       "      <td>1</td>\n",
       "    </tr>\n",
       "    <tr>\n",
       "      <th>5</th>\n",
       "      <td>football sport</td>\n",
       "      <td>Often competitive and organized, sports use, maintain, or improve physical ability and skills.</td>\n",
       "      <td>17</td>\n",
       "      <td>1</td>\n",
       "      <td>1</td>\n",
       "    </tr>\n",
       "    <tr>\n",
       "      <th>6</th>\n",
       "      <td>ice hockey</td>\n",
       "      <td>It belongs to a family of sports called hockey.</td>\n",
       "      <td>10</td>\n",
       "      <td>1</td>\n",
       "      <td>1</td>\n",
       "    </tr>\n",
       "  </tbody>\n",
       "</table>\n",
       "</div>"
      ],
      "text/plain": [
       "          wiki query  \\\n",
       "0  baguette food       \n",
       "1  banana bread food   \n",
       "2  bread food          \n",
       "3  data science        \n",
       "4  sports analytics    \n",
       "5  football sport      \n",
       "6  ice hockey          \n",
       "\n",
       "                                                                                                                                                   text  \\\n",
       "0  It is distinguishable by its length and crisp crust.                                                                                                   \n",
       "1  It is often a moist and sweet quick bread but some recipes are yeast raised.                                                                           \n",
       "2  Throughout recorded history and around the world, it has been an important part of many cultures' diet.                                                \n",
       "3  Data science also integrates domain knowledge from the underlying application domain (e.g., natural sciences, information technology, and medicine).   \n",
       "4  The term \"sports analytics\" was popularized in mainstream sports culture following the release of the 2011 film Moneyball.                             \n",
       "5  Often competitive and organized, sports use, maintain, or improve physical ability and skills.                                                         \n",
       "6  It belongs to a family of sports called hockey.                                                                                                        \n",
       "\n",
       "   n_words  bow_kmeans  emb_kmeans  \n",
       "0  10       1           2           \n",
       "1  16       2           2           \n",
       "2  20       0           0           \n",
       "3  24       1           1           \n",
       "4  21       1           1           \n",
       "5  17       1           1           \n",
       "6  10       1           1           "
      ]
     },
     "execution_count": 12,
     "metadata": {},
     "output_type": "execute_result"
    }
   ],
   "source": [
    "wiki_df[\"emb_kmeans\"] = kmeans_emb_labels\n",
    "wiki_df"
   ]
  },
  {
   "cell_type": "markdown",
   "metadata": {
    "deletable": false,
    "editable": false
   },
   "source": [
    "<!-- END QUESTION -->\n",
    "\n",
    "<br><br>"
   ]
  },
  {
   "cell_type": "markdown",
   "metadata": {
    "deletable": false,
    "editable": false
   },
   "source": [
    "<!-- BEGIN QUESTION -->\n",
    "\n",
    "### 1.4 DBSCAN with cosine distance  \n",
    "rubric={points}\n",
    "\n",
    "Now try [`DBSCAN`](https://scikit-learn.org/stable/modules/generated/sklearn.cluster.DBSCAN.html) on our toy dataset. K-Means is kind of bound to the Euclidean distance because it is based on the notion of means. With `DBSCAN` we can try different distance metrics. In the context of text data, [cosine similarities](https://scikit-learn.org/stable/modules/metrics.html#cosine-similarity) or cosine distances tend to work well. Given vectors $u$ and $v$, the **cosine distance** between the vectors is defined as: \n",
    "\n",
    "$$distance_{cosine}(u,v) = 1 - (\\frac{u \\cdot v}{\\left\\lVert u\\right\\rVert_2 \\left\\lVert v\\right\\rVert_2})$$\n",
    "\n",
    "\n",
    "**Your tasks**\n",
    "\n",
    "1. Cluster documents in our toy corpus encoded with sentence embedding representation (`emb_sents`) and [DBSCAN](https://scikit-learn.org/stable/modules/generated/sklearn.cluster.DBSCAN.html?highlight=dbscan#sklearn.cluster.DBSCAN) with `metric='cosine'`. You will have to set appropriate values for the hyperparamters `eps` and `min_samples` to get meaningful clusters, as default values of these hyperparameters are unlikely to work well on this toy dataset.\n",
    "2. Store the clustering labels in the `dbscan_emb_labels` variable below. "
   ]
  },
  {
   "cell_type": "markdown",
   "metadata": {
    "deletable": false,
    "editable": false
   },
   "source": [
    "<div class=\"alert alert-warning\">\n",
    "\n",
    "Solution_1.4\n",
    "    \n",
    "</div>\n",
    "\n",
    "_Points:_ 4"
   ]
  },
  {
   "cell_type": "code",
   "execution_count": 13,
   "metadata": {
    "tags": []
   },
   "outputs": [],
   "source": [
    "# DBSCAN\n",
    "from sklearn.cluster import DBSCAN"
   ]
  },
  {
   "cell_type": "code",
   "execution_count": 14,
   "metadata": {
    "tags": [
     "otter_ignore"
    ]
   },
   "outputs": [
    {
     "name": "stdout",
     "output_type": "stream",
     "text": [
      "eps=0.711541438766307, min_samples=1: [0 1 2 3]\n",
      "eps=0.7932403998078663, min_samples=1: [0]\n",
      "eps=0.3785685905190582, min_samples=3: [-1]\n",
      "eps=0.28199614093720604, min_samples=3: [-1]\n",
      "eps=0.9137436541638764, min_samples=1: [0]\n",
      "eps=0.6723940099592318, min_samples=1: [0 1 2 3 4 5]\n",
      "eps=0.22383777555045628, min_samples=1: [0 1 2 3 4 5 6]\n",
      "eps=0.3861287147125917, min_samples=3: [-1]\n",
      "eps=0.2212287757470909, min_samples=1: [0 1 2 3 4 5 6]\n",
      "eps=0.7728156903379229, min_samples=3: [0]\n",
      "eps=0.6359531844825734, min_samples=1: [0 1 2 3 4 5 6]\n",
      "eps=0.5593672370270829, min_samples=2: [-1]\n",
      "eps=0.8475443653422614, min_samples=1: [0]\n",
      "eps=0.8070458937038139, min_samples=1: [0]\n",
      "eps=0.7585115159905815, min_samples=2: [0 1]\n",
      "eps=0.4222970733373135, min_samples=1: [0 1 2 3 4 5 6]\n",
      "eps=0.9657704577654249, min_samples=2: [0]\n",
      "eps=0.28176822121587897, min_samples=2: [-1]\n",
      "eps=0.27737310146677124, min_samples=2: [-1]\n",
      "eps=0.6829808250935129, min_samples=1: [0 1 2 3 4]\n",
      "eps=0.7837854293550544, min_samples=3: [0]\n",
      "eps=0.2998609302825675, min_samples=2: [-1]\n",
      "eps=0.26304015846276657, min_samples=2: [-1]\n",
      "eps=0.863523731402396, min_samples=3: [0]\n",
      "eps=0.9083613983494454, min_samples=2: [0]\n",
      "eps=0.6618817162054096, min_samples=3: [-1]\n",
      "eps=0.25564411905899276, min_samples=3: [-1]\n",
      "eps=0.3823186205212375, min_samples=2: [-1]\n",
      "eps=0.9881772165286062, min_samples=1: [0]\n",
      "eps=0.8931869334042157, min_samples=2: [0]\n",
      "eps=0.4223788824880737, min_samples=3: [-1]\n",
      "eps=0.8672883413126002, min_samples=1: [0]\n",
      "eps=0.4961447736935061, min_samples=1: [0 1 2 3 4 5 6]\n",
      "eps=0.7361401395021547, min_samples=3: [-1  0]\n",
      "eps=0.9493236701699952, min_samples=3: [0]\n",
      "eps=0.25712200766283866, min_samples=3: [-1]\n",
      "eps=0.3369109185584776, min_samples=3: [-1]\n",
      "eps=0.395848740121141, min_samples=2: [-1]\n",
      "eps=0.5035643534061183, min_samples=3: [-1]\n",
      "eps=0.7505295667466505, min_samples=1: [0 1 2]\n",
      "eps=0.7505295667466505, min_samples=1: [0 1 2]\n",
      "eps=0.7476914007918998, min_samples=1: [0 1 2]\n",
      "eps=0.7476914007918998, min_samples=1: [0 1 2]\n",
      "eps=0.3832384575712835, min_samples=1: [0 1 2 3 4 5 6]\n",
      "eps=0.8440366406169715, min_samples=2: [0]\n",
      "eps=0.4141927007805622, min_samples=1: [0 1 2 3 4 5 6]\n",
      "eps=0.9305088993484361, min_samples=3: [0]\n",
      "eps=0.901094101178135, min_samples=2: [0]\n",
      "eps=0.3701012352433125, min_samples=2: [-1]\n",
      "eps=0.5165055208485314, min_samples=3: [-1]\n",
      "eps=0.567081482069919, min_samples=2: [-1]\n",
      "eps=0.31170425562040505, min_samples=3: [-1]\n",
      "eps=0.6490945073305207, min_samples=2: [-1  0]\n",
      "eps=0.7976110493218063, min_samples=2: [0]\n",
      "eps=0.9182583068819816, min_samples=2: [0]\n",
      "eps=0.4895971549708888, min_samples=1: [0 1 2 3 4 5 6]\n",
      "eps=0.6076210349411717, min_samples=1: [0 1 2 3 4 5 6]\n",
      "eps=0.8046257260269902, min_samples=1: [0]\n",
      "eps=0.32227305547860885, min_samples=1: [0 1 2 3 4 5 6]\n",
      "eps=0.8336634914903713, min_samples=2: [0]\n",
      "eps=0.6771272245855791, min_samples=2: [-1  0  1]\n",
      "eps=0.6771272245855791, min_samples=2: [-1  0  1]\n",
      "eps=0.5052954292052294, min_samples=2: [-1]\n",
      "eps=0.6232914760793096, min_samples=3: [-1]\n",
      "eps=0.8886237617875985, min_samples=1: [0]\n",
      "eps=0.7442267282052148, min_samples=1: [0 1 2]\n",
      "eps=0.7442267282052148, min_samples=1: [0 1 2]\n",
      "eps=0.7453682952212599, min_samples=3: [-1  0]\n",
      "eps=0.8007022396732879, min_samples=3: [0]\n",
      "eps=0.4721403784248362, min_samples=2: [-1]\n",
      "eps=0.547812200535284, min_samples=2: [-1]\n",
      "eps=0.20259625288138344, min_samples=3: [-1]\n",
      "eps=0.9006823523025553, min_samples=2: [0]\n",
      "eps=0.9775104790960916, min_samples=1: [0]\n",
      "eps=0.6061453396834602, min_samples=1: [0 1 2 3 4 5 6]\n",
      "eps=0.8964148558694136, min_samples=2: [0]\n",
      "eps=0.8733354785379737, min_samples=3: [0]\n",
      "eps=0.6871761691505378, min_samples=1: [0 1 2 3 4]\n",
      "eps=0.4991310820729184, min_samples=1: [0 1 2 3 4 5 6]\n",
      "eps=0.6315032240957006, min_samples=3: [-1]\n",
      "eps=0.9347947955165619, min_samples=3: [0]\n",
      "eps=0.4593248456037385, min_samples=1: [0 1 2 3 4 5 6]\n",
      "eps=0.2894941802567161, min_samples=2: [-1]\n",
      "eps=0.9029775022585473, min_samples=2: [0]\n",
      "eps=0.39156184827044704, min_samples=1: [0 1 2 3 4 5 6]\n",
      "eps=0.9024076793632325, min_samples=1: [0]\n",
      "eps=0.26852276165430305, min_samples=2: [-1]\n",
      "eps=0.8528186027360709, min_samples=3: [0]\n",
      "eps=0.8126675434455903, min_samples=1: [0]\n",
      "eps=0.727800658197894, min_samples=3: [-1  0]\n",
      "eps=0.33210156717930217, min_samples=3: [-1]\n",
      "eps=0.8979464328682061, min_samples=2: [0]\n",
      "eps=0.9714903248059643, min_samples=3: [0]\n",
      "eps=0.8042121573086445, min_samples=3: [0]\n",
      "eps=0.3609208507117567, min_samples=2: [-1]\n",
      "eps=0.5191938399979433, min_samples=3: [-1]\n",
      "eps=0.7199024461115628, min_samples=2: [-1  0  1]\n",
      "eps=0.7199024461115628, min_samples=2: [-1  0  1]\n",
      "eps=0.9196912677143565, min_samples=2: [0]\n",
      "eps=0.2968033566946126, min_samples=1: [0 1 2 3 4 5 6]\n",
      "eps=0.25122071706107596, min_samples=1: [0 1 2 3 4 5 6]\n",
      "eps=0.6706469747657866, min_samples=1: [0 1 2 3 4 5]\n",
      "eps=0.6707520915282809, min_samples=1: [0 1 2 3 4 5]\n",
      "eps=0.25679446880722606, min_samples=3: [-1]\n",
      "eps=0.24709901350105873, min_samples=1: [0 1 2 3 4 5 6]\n",
      "eps=0.9243360104049023, min_samples=2: [0]\n",
      "eps=0.2566858799109228, min_samples=1: [0 1 2 3 4 5 6]\n",
      "eps=0.4227818111716376, min_samples=2: [-1]\n",
      "eps=0.3713894458963509, min_samples=1: [0 1 2 3 4 5 6]\n",
      "eps=0.7786820527047766, min_samples=3: [0]\n",
      "eps=0.6609693197767199, min_samples=1: [0 1 2 3 4 5]\n",
      "eps=0.8276955394326027, min_samples=2: [0]\n",
      "eps=0.3523279314895022, min_samples=1: [0 1 2 3 4 5 6]\n",
      "eps=0.7271861996117306, min_samples=2: [-1  0  1]\n",
      "eps=0.7271861996117306, min_samples=2: [-1  0  1]\n"
     ]
    },
    {
     "data": {
      "image/png": "[encoded data removed]",
      "text/plain": [
       "<Figure size 1500x800 with 6 Axes>"
      ]
     },
     "metadata": {},
     "output_type": "display_data"
    }
   ],
   "source": [
    "import numpy as np\n",
    "from sklearn.cluster import DBSCAN\n",
    "from matplotlib import pyplot as plt\n",
    "import random\n",
    "\n",
    "from random import uniform, randint\n",
    "\n",
    "random.seed(42)\n",
    "np.random.seed(42)\n",
    "\n",
    "n_samples = 6\n",
    "\n",
    "fig, axes = plt.subplots(2, 3, figsize=(15, 8))\n",
    "plot_count = 0\n",
    "\n",
    "for ax in axes.flatten():\n",
    "    while plot_count < n_samples:\n",
    "        eps = uniform(0.2, 1)\n",
    "        min_samples = randint(1, 3)\n",
    "        \n",
    "        dbscan_emb_labels = DBSCAN(eps=eps, min_samples=min_samples, metric='cosine').fit_predict(emb_sent_df)\n",
    "        unique_labels = np.unique(dbscan_emb_labels)\n",
    "    \n",
    "        print(f\"eps={eps}, min_samples={min_samples}: {unique_labels}\")\n",
    "        \n",
    "        if len(unique_labels) == 3:\n",
    "            print(f\"eps={eps}, min_samples={min_samples}: {unique_labels}\")\n",
    "            \n",
    "            colors = plt.cm.Spectral(np.linspace(0, 1, len(unique_labels)))\n",
    "            \n",
    "            for k, col in zip(unique_labels, colors):\n",
    "                if k == -1:\n",
    "                    col = [0, 0, 0, 1] \n",
    "\n",
    "                class_member_mask = (dbscan_emb_labels == k)\n",
    "                xy = emb_sent_df[class_member_mask]\n",
    "                ax.scatter(xy.iloc[:, 0], xy.iloc[:, 1], c=[col], label=f'Cluster {k}')\n",
    "            \n",
    "            ax.set_title(f'DBSCAN: eps={eps:.2f}, min_samples={min_samples}')\n",
    "            ax.legend()\n",
    "            plot_count += 1\n",
    "            break\n",
    "\n",
    "# Adjust layout\n",
    "plt.tight_layout()\n",
    "plt.show()"
   ]
  },
  {
   "cell_type": "code",
   "execution_count": 15,
   "metadata": {
    "tags": []
   },
   "outputs": [],
   "source": [
    "dbscan_emb_labels = DBSCAN(eps=0.70, min_samples=2, metric='cosine').fit_predict(emb_sent_df)"
   ]
  },
  {
   "cell_type": "code",
   "execution_count": 16,
   "metadata": {
    "tags": []
   },
   "outputs": [
    {
     "data": {
      "text/html": [
       "<div>\n",
       "<style scoped>\n",
       "    .dataframe tbody tr th:only-of-type {\n",
       "        vertical-align: middle;\n",
       "    }\n",
       "\n",
       "    .dataframe tbody tr th {\n",
       "        vertical-align: top;\n",
       "    }\n",
       "\n",
       "    .dataframe thead th {\n",
       "        text-align: right;\n",
       "    }\n",
       "</style>\n",
       "<table border=\"1\" class=\"dataframe\">\n",
       "  <thead>\n",
       "    <tr style=\"text-align: right;\">\n",
       "      <th></th>\n",
       "      <th>wiki query</th>\n",
       "      <th>text</th>\n",
       "      <th>n_words</th>\n",
       "      <th>bow_kmeans</th>\n",
       "      <th>emb_kmeans</th>\n",
       "      <th>emb_dbscan</th>\n",
       "    </tr>\n",
       "  </thead>\n",
       "  <tbody>\n",
       "    <tr>\n",
       "      <th>0</th>\n",
       "      <td>baguette food</td>\n",
       "      <td>It is distinguishable by its length and crisp crust.</td>\n",
       "      <td>10</td>\n",
       "      <td>1</td>\n",
       "      <td>2</td>\n",
       "      <td>0</td>\n",
       "    </tr>\n",
       "    <tr>\n",
       "      <th>1</th>\n",
       "      <td>banana bread food</td>\n",
       "      <td>It is often a moist and sweet quick bread but some recipes are yeast raised.</td>\n",
       "      <td>16</td>\n",
       "      <td>2</td>\n",
       "      <td>2</td>\n",
       "      <td>0</td>\n",
       "    </tr>\n",
       "    <tr>\n",
       "      <th>2</th>\n",
       "      <td>bread food</td>\n",
       "      <td>Throughout recorded history and around the world, it has been an important part of many cultures' diet.</td>\n",
       "      <td>20</td>\n",
       "      <td>0</td>\n",
       "      <td>0</td>\n",
       "      <td>-1</td>\n",
       "    </tr>\n",
       "    <tr>\n",
       "      <th>3</th>\n",
       "      <td>data science</td>\n",
       "      <td>Data science also integrates domain knowledge from the underlying application domain (e.g., natural sciences, information technology, and medicine).</td>\n",
       "      <td>24</td>\n",
       "      <td>1</td>\n",
       "      <td>1</td>\n",
       "      <td>-1</td>\n",
       "    </tr>\n",
       "    <tr>\n",
       "      <th>4</th>\n",
       "      <td>sports analytics</td>\n",
       "      <td>The term \"sports analytics\" was popularized in mainstream sports culture following the release of the 2011 film Moneyball.</td>\n",
       "      <td>21</td>\n",
       "      <td>1</td>\n",
       "      <td>1</td>\n",
       "      <td>1</td>\n",
       "    </tr>\n",
       "    <tr>\n",
       "      <th>5</th>\n",
       "      <td>football sport</td>\n",
       "      <td>Often competitive and organized, sports use, maintain, or improve physical ability and skills.</td>\n",
       "      <td>17</td>\n",
       "      <td>1</td>\n",
       "      <td>1</td>\n",
       "      <td>-1</td>\n",
       "    </tr>\n",
       "    <tr>\n",
       "      <th>6</th>\n",
       "      <td>ice hockey</td>\n",
       "      <td>It belongs to a family of sports called hockey.</td>\n",
       "      <td>10</td>\n",
       "      <td>1</td>\n",
       "      <td>1</td>\n",
       "      <td>1</td>\n",
       "    </tr>\n",
       "  </tbody>\n",
       "</table>\n",
       "</div>"
      ],
      "text/plain": [
       "          wiki query  \\\n",
       "0  baguette food       \n",
       "1  banana bread food   \n",
       "2  bread food          \n",
       "3  data science        \n",
       "4  sports analytics    \n",
       "5  football sport      \n",
       "6  ice hockey          \n",
       "\n",
       "                                                                                                                                                   text  \\\n",
       "0  It is distinguishable by its length and crisp crust.                                                                                                   \n",
       "1  It is often a moist and sweet quick bread but some recipes are yeast raised.                                                                           \n",
       "2  Throughout recorded history and around the world, it has been an important part of many cultures' diet.                                                \n",
       "3  Data science also integrates domain knowledge from the underlying application domain (e.g., natural sciences, information technology, and medicine).   \n",
       "4  The term \"sports analytics\" was popularized in mainstream sports culture following the release of the 2011 film Moneyball.                             \n",
       "5  Often competitive and organized, sports use, maintain, or improve physical ability and skills.                                                         \n",
       "6  It belongs to a family of sports called hockey.                                                                                                        \n",
       "\n",
       "   n_words  bow_kmeans  emb_kmeans  emb_dbscan  \n",
       "0  10       1           2           0           \n",
       "1  16       2           2           0           \n",
       "2  20       0           0          -1           \n",
       "3  24       1           1          -1           \n",
       "4  21       1           1           1           \n",
       "5  17       1           1          -1           \n",
       "6  10       1           1           1           "
      ]
     },
     "execution_count": 16,
     "metadata": {},
     "output_type": "execute_result"
    }
   ],
   "source": [
    "wiki_df[\"emb_dbscan\"] = dbscan_emb_labels\n",
    "wiki_df"
   ]
  },
  {
   "cell_type": "markdown",
   "metadata": {
    "deletable": false,
    "editable": false
   },
   "source": [
    "<!-- END QUESTION -->\n",
    "\n",
    "<br><br>"
   ]
  },
  {
   "cell_type": "markdown",
   "metadata": {
    "deletable": false,
    "editable": false
   },
   "source": [
    "<!-- BEGIN QUESTION -->\n",
    "\n",
    "### 1.5 Hierarchical clustering with sentence embedding representation\n",
    "rubric={points}\n",
    "\n",
    "**Your tasks:**\n",
    "\n",
    "Try hierarchical clustering on `emb_sents`. In particular\n",
    "1. Create and show a dendrogram with `complete` linkage and `metric='cosine'` on this toy dataset.\n",
    "2. Create flat clusters using `fcluster` with appropriate hyperparameters and store cluster labels to `hier_emb_labels` variable below."
   ]
  },
  {
   "cell_type": "markdown",
   "metadata": {
    "deletable": false,
    "editable": false
   },
   "source": [
    "<div class=\"alert alert-warning\">\n",
    "\n",
    "Solution_1.5\n",
    "    \n",
    "</div>\n",
    "\n",
    "_Points:_ 3"
   ]
  },
  {
   "cell_type": "code",
   "execution_count": 17,
   "metadata": {
    "tags": []
   },
   "outputs": [
    {
     "data": {
      "image/png": "[encoded data removed]",
      "text/plain": [
       "<Figure size 640x480 with 1 Axes>"
      ]
     },
     "metadata": {},
     "output_type": "display_data"
    }
   ],
   "source": [
    "from scipy.cluster.hierarchy import linkage, dendrogram, fcluster\n",
    "\n",
    "dendro = linkage(emb_sents, method='average', metric='cosine')\n",
    "dendrogram(dendro, color_threshold=0.5)\n",
    "plt.show()"
   ]
  },
  {
   "cell_type": "code",
   "execution_count": 18,
   "metadata": {
    "tags": []
   },
   "outputs": [],
   "source": [
    "hier_emb_labels = fcluster(dendro, 0.76, criterion='distance')"
   ]
  },
  {
   "cell_type": "code",
   "execution_count": 19,
   "metadata": {
    "tags": []
   },
   "outputs": [],
   "source": [
    "# hier_emb_labels = fcluster(Z, 3, criterion=\"maxclust\") # alternative solution"
   ]
  },
  {
   "cell_type": "code",
   "execution_count": 20,
   "metadata": {
    "tags": []
   },
   "outputs": [
    {
     "data": {
      "text/html": [
       "<div>\n",
       "<style scoped>\n",
       "    .dataframe tbody tr th:only-of-type {\n",
       "        vertical-align: middle;\n",
       "    }\n",
       "\n",
       "    .dataframe tbody tr th {\n",
       "        vertical-align: top;\n",
       "    }\n",
       "\n",
       "    .dataframe thead th {\n",
       "        text-align: right;\n",
       "    }\n",
       "</style>\n",
       "<table border=\"1\" class=\"dataframe\">\n",
       "  <thead>\n",
       "    <tr style=\"text-align: right;\">\n",
       "      <th></th>\n",
       "      <th>wiki query</th>\n",
       "      <th>text</th>\n",
       "      <th>n_words</th>\n",
       "      <th>bow_kmeans</th>\n",
       "      <th>emb_kmeans</th>\n",
       "      <th>emb_dbscan</th>\n",
       "      <th>emb_hierarchical</th>\n",
       "    </tr>\n",
       "  </thead>\n",
       "  <tbody>\n",
       "    <tr>\n",
       "      <th>0</th>\n",
       "      <td>baguette food</td>\n",
       "      <td>It is distinguishable by its length and crisp crust.</td>\n",
       "      <td>10</td>\n",
       "      <td>1</td>\n",
       "      <td>2</td>\n",
       "      <td>0</td>\n",
       "      <td>1</td>\n",
       "    </tr>\n",
       "    <tr>\n",
       "      <th>1</th>\n",
       "      <td>banana bread food</td>\n",
       "      <td>It is often a moist and sweet quick bread but some recipes are yeast raised.</td>\n",
       "      <td>16</td>\n",
       "      <td>2</td>\n",
       "      <td>2</td>\n",
       "      <td>0</td>\n",
       "      <td>1</td>\n",
       "    </tr>\n",
       "    <tr>\n",
       "      <th>2</th>\n",
       "      <td>bread food</td>\n",
       "      <td>Throughout recorded history and around the world, it has been an important part of many cultures' diet.</td>\n",
       "      <td>20</td>\n",
       "      <td>0</td>\n",
       "      <td>0</td>\n",
       "      <td>-1</td>\n",
       "      <td>3</td>\n",
       "    </tr>\n",
       "    <tr>\n",
       "      <th>3</th>\n",
       "      <td>data science</td>\n",
       "      <td>Data science also integrates domain knowledge from the underlying application domain (e.g., natural sciences, information technology, and medicine).</td>\n",
       "      <td>24</td>\n",
       "      <td>1</td>\n",
       "      <td>1</td>\n",
       "      <td>-1</td>\n",
       "      <td>2</td>\n",
       "    </tr>\n",
       "    <tr>\n",
       "      <th>4</th>\n",
       "      <td>sports analytics</td>\n",
       "      <td>The term \"sports analytics\" was popularized in mainstream sports culture following the release of the 2011 film Moneyball.</td>\n",
       "      <td>21</td>\n",
       "      <td>1</td>\n",
       "      <td>1</td>\n",
       "      <td>1</td>\n",
       "      <td>2</td>\n",
       "    </tr>\n",
       "    <tr>\n",
       "      <th>5</th>\n",
       "      <td>football sport</td>\n",
       "      <td>Often competitive and organized, sports use, maintain, or improve physical ability and skills.</td>\n",
       "      <td>17</td>\n",
       "      <td>1</td>\n",
       "      <td>1</td>\n",
       "      <td>-1</td>\n",
       "      <td>2</td>\n",
       "    </tr>\n",
       "    <tr>\n",
       "      <th>6</th>\n",
       "      <td>ice hockey</td>\n",
       "      <td>It belongs to a family of sports called hockey.</td>\n",
       "      <td>10</td>\n",
       "      <td>1</td>\n",
       "      <td>1</td>\n",
       "      <td>1</td>\n",
       "      <td>2</td>\n",
       "    </tr>\n",
       "  </tbody>\n",
       "</table>\n",
       "</div>"
      ],
      "text/plain": [
       "          wiki query  \\\n",
       "0  baguette food       \n",
       "1  banana bread food   \n",
       "2  bread food          \n",
       "3  data science        \n",
       "4  sports analytics    \n",
       "5  football sport      \n",
       "6  ice hockey          \n",
       "\n",
       "                                                                                                                                                   text  \\\n",
       "0  It is distinguishable by its length and crisp crust.                                                                                                   \n",
       "1  It is often a moist and sweet quick bread but some recipes are yeast raised.                                                                           \n",
       "2  Throughout recorded history and around the world, it has been an important part of many cultures' diet.                                                \n",
       "3  Data science also integrates domain knowledge from the underlying application domain (e.g., natural sciences, information technology, and medicine).   \n",
       "4  The term \"sports analytics\" was popularized in mainstream sports culture following the release of the 2011 film Moneyball.                             \n",
       "5  Often competitive and organized, sports use, maintain, or improve physical ability and skills.                                                         \n",
       "6  It belongs to a family of sports called hockey.                                                                                                        \n",
       "\n",
       "   n_words  bow_kmeans  emb_kmeans  emb_dbscan  emb_hierarchical  \n",
       "0  10       1           2           0           1                 \n",
       "1  16       2           2           0           1                 \n",
       "2  20       0           0          -1           3                 \n",
       "3  24       1           1          -1           2                 \n",
       "4  21       1           1           1           2                 \n",
       "5  17       1           1          -1           2                 \n",
       "6  10       1           1           1           2                 "
      ]
     },
     "execution_count": 20,
     "metadata": {},
     "output_type": "execute_result"
    }
   ],
   "source": [
    "wiki_df[\"emb_hierarchical\"] = hier_emb_labels\n",
    "wiki_df"
   ]
  },
  {
   "cell_type": "markdown",
   "metadata": {
    "deletable": false,
    "editable": false
   },
   "source": [
    "<!-- END QUESTION -->\n",
    "\n",
    "<br><br>"
   ]
  },
  {
   "cell_type": "markdown",
   "metadata": {
    "deletable": false,
    "editable": false
   },
   "source": [
    "<!-- BEGIN QUESTION -->\n",
    "\n",
    "### 1.6 Discussion\n",
    "rubric={points}\n",
    "\n",
    "**Your tasks:**\n",
    "\n",
    "1. Reflect on and discuss the clustering results of the methods you explored in the previous exercises, focusing on the following points:    \n",
    "    - effect of input representation on clustering results\n",
    "    - whether the clustering results match with your intuitions and the challenges associated with getting the desired clustering results with each method"
   ]
  },
  {
   "cell_type": "markdown",
   "metadata": {
    "deletable": false,
    "editable": false
   },
   "source": [
    "<div class=\"alert alert-warning\">\n",
    "\n",
    "Solution_1.6\n",
    "    \n",
    "</div>\n",
    "\n",
    "_Points:_ 4"
   ]
  },
  {
   "cell_type": "markdown",
   "metadata": {},
   "source": [
    "1. KMeans: Overall, the clustering results differered from how I interpreted the clusters, perhaps because KMeans was not able to capture a more complicated cluster shape. KMeans was relatively easy to use once the number of expected groups was found.\n",
    "   - Sentence Embeddings: this actually encodes the semantic information of the sentence in a higher dimension vector space, as such, the clusters are better quality and match the expected predictions better.\n",
    "   - Bag of Words: this captures the frequency of common words appearing, which generally does not capture sematic context of the text well. As such, this lead to poorer quality clusters that deviated further from the expectation.\n",
    "2. DBScan: arguably provided better clustering results compared to KMeans, as there was some degree of separation found for sports. However, the clustering results still do not match the intutition. The challenging part of DBScan is determining the hyperparameters to get good clustering results, I was able to achieve this by implementing a system similar to `RandomSearchCV`.\n",
    "3. Heirarchical: provided the same clustering results as `emb_kmeans`, which is not the best and different from expected. The difficult part of this method was finding the distance separation metric that resulting in 3 distinct groups. Interpreting the graph with a little brute force was needed to find the metric. \n",
    "\n",
    "The difference in the clusters could be due to the fact that the text does not exactly match the wiki query semantically, since when I was initially creating the groups, I looked at the query to form the groups. Maybe having more text related to the queries will result in better clustering results."
   ]
  },
  {
   "cell_type": "markdown",
   "metadata": {
    "deletable": false,
    "editable": false
   },
   "source": [
    "<!-- END QUESTION -->\n",
    "\n",
    "<br><br>"
   ]
  },
  {
   "cell_type": "markdown",
   "metadata": {},
   "source": [
    "<br><br>"
   ]
  },
  {
   "cell_type": "markdown",
   "metadata": {
    "deletable": false,
    "editable": false
   },
   "source": [
    "<!-- BEGIN QUESTION -->\n",
    "\n",
    "### 1.7 Visualizing clusters\n",
    "rubric={points:4}\n",
    "\n",
    "\n",
    "One approach to working with unlabeled data is visualization. That said, our data is high-dimensional, making it challenging to visualize. Take sentence embedding representation as an example: each instance is depicted in 768 dimensions. To visualize such high-dimensional data, we can employ dimensionality reduction techniques to extract the most significant 2 or 3 components, and then visualize this low-dimensional data.\n",
    "\n",
    "Given data as a `numpy` array and corresponding cluster assignments, the `plot_umap_clusters` function below transforms the data by applying dimensionality reduction technique called [UMAP](https://umap-learn.readthedocs.io/en/latest/) to it and plots the transformed data with different colours for different clusters. \n",
    "\n",
    "> *Note: At this point we are using this function only for visualization and you are not expected to understand the UMAP part.* \n",
    "\n",
    "You'll have to install the `umap-learn` package in the course conda environment either with `conda` or `pip`, as described in the [documentation](https://umap-learn.readthedocs.io/en/latest/index.html). \n",
    "\n",
    "```\n",
    "> conda activate cpsc330\n",
    "> conda install -c conda-forge umap-learn\n",
    "```\n",
    "or\n",
    "\n",
    "```\n",
    "> conda activate cpsc330\n",
    "> pip install umap-learn \n",
    "```\n",
    "\n",
    "If you get an error with the import below try\n",
    "\n",
    "```\n",
    "pip install --upgrade numba umap-learn\n",
    "```\n",
    "\n",
    "**Your tasks:**\n",
    "\n",
    "1. Visualize the clusters created by the methods above using `plot_umap_clusters` function below. In other words, visualize clusters identified by each of the methods below. \n",
    "    - K-Means with bag-of-words representation \n",
    "    - K-Means with sentence embedding representation\n",
    "    - DBSCAN with sentence embedding representation \n",
    "    - Flat cluster of hierarchical clustering with sentence embedding representation     "
   ]
  },
  {
   "cell_type": "code",
   "execution_count": 21,
   "metadata": {
    "deletable": false,
    "editable": false
   },
   "outputs": [],
   "source": [
    "import umap"
   ]
  },
  {
   "cell_type": "code",
   "execution_count": 22,
   "metadata": {
    "deletable": false,
    "editable": false
   },
   "outputs": [],
   "source": [
    "def plot_umap_clusters(\n",
    "    data,\n",
    "    cluster_labels,\n",
    "    raw_sents=wiki_df[\"text\"],\n",
    "    show_labels=False,\n",
    "    size=50,\n",
    "    n_neighbors=15,\n",
    "    title=\"UMAP visualization\",\n",
    "    ignore_noise=False,\n",
    "):\n",
    "    \"\"\"\n",
    "    Carry out dimensionality reduction using UMAP and plot 2-dimensional clusters.\n",
    "\n",
    "    Parameters\n",
    "    -----------\n",
    "    data : numpy array\n",
    "        data as a numpy array\n",
    "    cluster_labels : list\n",
    "        cluster labels for each row in the dataset\n",
    "    raw_sents : list\n",
    "        the original raw sentences for labeling datapoints\n",
    "    show_labels : boolean\n",
    "        whether you want to show labels for points or not (default: False)\n",
    "    size : int\n",
    "        size of points in the scatterplot\n",
    "    n_neighbors : int\n",
    "        n_neighbors hyperparameter of UMAP. See the documentation.\n",
    "    title : str\n",
    "        title for the visualization plot\n",
    "\n",
    "    Returns\n",
    "    -----------\n",
    "    None. Shows the clusters.\n",
    "    \"\"\"\n",
    "\n",
    "    reducer = umap.UMAP(n_neighbors=n_neighbors, random_state=42)\n",
    "    Z = reducer.fit_transform(data)  # reduce dimensionality\n",
    "    umap_df = pd.DataFrame(data=Z, columns=[\"dim1\", \"dim2\"])\n",
    "    umap_df[\"cluster\"] = cluster_labels\n",
    "\n",
    "    if ignore_noise:\n",
    "        umap_df = umap_df[umap_df[\"cluster\"] != -1]\n",
    "\n",
    "    labels = np.unique(umap_df[\"cluster\"])\n",
    "\n",
    "    fig, ax = plt.subplots(figsize=(6, 5))\n",
    "    ax.set_title(title)\n",
    "\n",
    "    scatter = ax.scatter(\n",
    "        umap_df[\"dim1\"],\n",
    "        umap_df[\"dim2\"],\n",
    "        c=umap_df[\"cluster\"],\n",
    "        cmap=\"tab20b\",\n",
    "        s=size,\n",
    "        #edgecolors=\"k\",\n",
    "        #linewidths=0.1,\n",
    "    )\n",
    "\n",
    "    legend = ax.legend(*scatter.legend_elements(), loc=\"best\", title=\"Clusters\")\n",
    "    ax.add_artist(legend)\n",
    "\n",
    "    if show_labels:\n",
    "        x = umap_df[\"dim1\"].tolist()\n",
    "        y = umap_df[\"dim2\"].tolist()\n",
    "        for i, txt in enumerate(raw_sents):\n",
    "            ax.annotate(\" \".join(txt.split()[:10]), (x[i], y[i]))\n",
    "    plt.show()"
   ]
  },
  {
   "cell_type": "markdown",
   "metadata": {
    "deletable": false,
    "editable": false
   },
   "source": [
    "<div class=\"alert alert-warning\">\n",
    "\n",
    "Solution_1.7\n",
    "    \n",
    "</div>\n",
    "\n",
    "_Points:_ 4"
   ]
  },
  {
   "cell_type": "code",
   "execution_count": 23,
   "metadata": {
    "metadata": {
     "tags": [
      "otter_ignore"
     ]
    },
    "tags": []
   },
   "outputs": [
    {
     "name": "stderr",
     "output_type": "stream",
     "text": [
      "C:\\Users\\cedar\\miniconda3\\envs\\cpsc330\\Lib\\site-packages\\umap\\umap_.py:1952: UserWarning: n_jobs value 1 overridden to 1 by setting random_state. Use no seed for parallelism.\n",
      "  warn(\n",
      "C:\\Users\\cedar\\miniconda3\\envs\\cpsc330\\Lib\\site-packages\\umap\\umap_.py:2462: UserWarning: n_neighbors is larger than the dataset size; truncating to X.shape[0] - 1\n",
      "  warn(\n"
     ]
    },
    {
     "data": {
      "image/png": "[encoded data removed]",
      "text/plain": [
       "<Figure size 600x500 with 1 Axes>"
      ]
     },
     "metadata": {},
     "output_type": "display_data"
    },
    {
     "name": "stderr",
     "output_type": "stream",
     "text": [
      "C:\\Users\\cedar\\miniconda3\\envs\\cpsc330\\Lib\\site-packages\\umap\\umap_.py:1952: UserWarning: n_jobs value 1 overridden to 1 by setting random_state. Use no seed for parallelism.\n",
      "  warn(\n",
      "C:\\Users\\cedar\\miniconda3\\envs\\cpsc330\\Lib\\site-packages\\umap\\umap_.py:2462: UserWarning: n_neighbors is larger than the dataset size; truncating to X.shape[0] - 1\n",
      "  warn(\n"
     ]
    },
    {
     "data": {
      "image/png": "[encoded data removed]",
      "text/plain": [
       "<Figure size 600x500 with 1 Axes>"
      ]
     },
     "metadata": {},
     "output_type": "display_data"
    },
    {
     "name": "stderr",
     "output_type": "stream",
     "text": [
      "C:\\Users\\cedar\\miniconda3\\envs\\cpsc330\\Lib\\site-packages\\umap\\umap_.py:1952: UserWarning: n_jobs value 1 overridden to 1 by setting random_state. Use no seed for parallelism.\n",
      "  warn(\n",
      "C:\\Users\\cedar\\miniconda3\\envs\\cpsc330\\Lib\\site-packages\\umap\\umap_.py:2462: UserWarning: n_neighbors is larger than the dataset size; truncating to X.shape[0] - 1\n",
      "  warn(\n"
     ]
    },
    {
     "data": {
      "image/png": "[encoded data removed]",
      "text/plain": [
       "<Figure size 600x500 with 1 Axes>"
      ]
     },
     "metadata": {},
     "output_type": "display_data"
    },
    {
     "name": "stderr",
     "output_type": "stream",
     "text": [
      "C:\\Users\\cedar\\miniconda3\\envs\\cpsc330\\Lib\\site-packages\\umap\\umap_.py:1952: UserWarning: n_jobs value 1 overridden to 1 by setting random_state. Use no seed for parallelism.\n",
      "  warn(\n",
      "C:\\Users\\cedar\\miniconda3\\envs\\cpsc330\\Lib\\site-packages\\umap\\umap_.py:2462: UserWarning: n_neighbors is larger than the dataset size; truncating to X.shape[0] - 1\n",
      "  warn(\n"
     ]
    },
    {
     "data": {
      "image/png": "[encoded data removed]",
      "text/plain": [
       "<Figure size 600x500 with 1 Axes>"
      ]
     },
     "metadata": {},
     "output_type": "display_data"
    }
   ],
   "source": [
    "# 1. Visualize the clusters created by the methods above using `plot_umap_clusters` function below. In other words, visualize clusters identified by each of the methods below. \n",
    "#     - K-Means with bag-of-words representation \n",
    "#     - K-Means with sentence embedding representation\n",
    "#     - DBSCAN with sentence embedding representation \n",
    "#     - Flat cluster of hierarchical clustering with sentence embedding representation     \n",
    "\n",
    "plot_umap_clusters(\n",
    "    emb_sents,\n",
    "    wiki_df[\"bow_kmeans\"],\n",
    "    title=\"K-Means with bag-of-words representation\",\n",
    ")\n",
    "\n",
    "plot_umap_clusters(\n",
    "    emb_sents,\n",
    "    wiki_df[\"emb_kmeans\"],\n",
    "    title=\"K-Means with sentence embedding representation\",\n",
    ")\n",
    "\n",
    "plot_umap_clusters(\n",
    "    emb_sents,\n",
    "    wiki_df[\"emb_dbscan\"],\n",
    "    title=\"DBSCAN with sentence embedding representation\",\n",
    ")\n",
    "\n",
    "plot_umap_clusters(\n",
    "    emb_sents,\n",
    "    wiki_df[\"emb_hierarchical\"],\n",
    "    title=\"Flat cluster of hierarchical clustering with sentence embedding representation\",\n",
    ")\n"
   ]
  },
  {
   "cell_type": "markdown",
   "metadata": {
    "deletable": false,
    "editable": false
   },
   "source": [
    "<!-- END QUESTION -->\n",
    "\n",
    "<br><br><br><br>"
   ]
  },
  {
   "cell_type": "markdown",
   "metadata": {},
   "source": [
    "## Exercise 2: [Food.com](https://www.food.com/) recipes \n",
    "<hr>\n",
    "\n",
    "Now that we have applied document clustering on a toy corpus, let's move to a more realistic corpus. \n",
    "\n",
    "In the lecture, we worked on an activity of manually clustering food items and discussed challenges associated with it. We also applied different clustering algorithms to cluster food images. We'll continue this theme of clustering food items in this lab. But instead of images we will cluster textual description of food items, i.e., recipe names.   \n",
    "\n",
    "In this lab, we will work with a sample of [Kaggle's Food.com recipes corpus](https://www.kaggle.com/shuyangli94/food-com-recipes-and-user-interactions). This corpus contains 180K+ recipes and 700K+ recipe reviews. In this lab, we'll only focus on recipes and **not** on reviews. The recipes are present in `RAW_recipes.csv`. Our goal is to find categories or groupings of recipes from this corpus based on their names. \n",
    "\n",
    "**Your tasks:**\n",
    "\n",
    "- Download [`RAW_recipes.csv`](https://www.kaggle.com/shuyangli94/food-com-recipes-and-user-interactions?select=RAW_recipes.csv) and put it under the `data` directory in the homework folder. \n",
    "- Run the code below. The dataset is quite large, and in this assignment, for speed, you will work with a sample of the dataset. The function `get_recipes_sample` below carries out some preliminary preprocessing and returns a sample of the recipes with most frequent tags. \n",
    "\n",
    "> *Note: Depending upon the capacity of your computer, feel free to increase or decrease the size of this sample by changing the value for `n_tags`. If you decide to go with a different value of `n_tags`, state it clearly in Exercise 2.1 so that the grader knows about it.* "
   ]
  },
  {
   "cell_type": "code",
   "execution_count": 24,
   "metadata": {},
   "outputs": [
    {
     "data": {
      "text/plain": [
       "(231637, 12)"
      ]
     },
     "execution_count": 24,
     "metadata": {},
     "output_type": "execute_result"
    }
   ],
   "source": [
    "orig_recipes_df = pd.read_csv(\"data/RAW_recipes.csv\")\n",
    "orig_recipes_df.shape"
   ]
  },
  {
   "cell_type": "code",
   "execution_count": 25,
   "metadata": {},
   "outputs": [],
   "source": [
    "def get_recipes_sample(orig_recipes_df, n_tags=300, min_len=5):\n",
    "    orig_recipes_df = orig_recipes_df.dropna()  # Remove rows with NaNs.\n",
    "    orig_recipes_df = orig_recipes_df.drop_duplicates(\n",
    "        \"name\"\n",
    "    )  # Remove rows with duplicate names.\n",
    "    # Remove rows where recipe names are too short (< 5 characters).\n",
    "    orig_recipes_df = orig_recipes_df[orig_recipes_df[\"name\"].apply(len) >= min_len]\n",
    "    # Only consider the rows where tags are one of the most frequent n tags.\n",
    "    first_n = orig_recipes_df[\"tags\"].value_counts()[0:n_tags].index.tolist()\n",
    "    recipes_df = orig_recipes_df[orig_recipes_df[\"tags\"].isin(first_n)]\n",
    "    return recipes_df"
   ]
  },
  {
   "cell_type": "code",
   "execution_count": 26,
   "metadata": {},
   "outputs": [
    {
     "data": {
      "text/plain": [
       "(9100, 12)"
      ]
     },
     "execution_count": 26,
     "metadata": {},
     "output_type": "execute_result"
    }
   ],
   "source": [
    "recipes_df = get_recipes_sample(orig_recipes_df)\n",
    "recipes_df.shape"
   ]
  },
  {
   "cell_type": "code",
   "execution_count": 27,
   "metadata": {},
   "outputs": [
    {
     "data": {
      "text/plain": [
       "42        i yam what i yam  muffins    \n",
       "101       to your health  muffins      \n",
       "129       250 00 chocolate chip cookies\n",
       "138       lplermagronen                \n",
       "163       california roll   salad      \n",
       "                   ...                 \n",
       "231514    zucchini blueberry bread     \n",
       "231539    zucchini parmesan pancakes   \n",
       "231547    zucchini salsa burgers       \n",
       "231596    zuppa toscana                \n",
       "231629    zydeco salad                 \n",
       "Name: name, Length: 9100, dtype: object"
      ]
     },
     "execution_count": 27,
     "metadata": {},
     "output_type": "execute_result"
    }
   ],
   "source": [
    "recipes_df[\"name\"]"
   ]
  },
  {
   "cell_type": "markdown",
   "metadata": {},
   "source": [
    "<br><br>"
   ]
  },
  {
   "cell_type": "markdown",
   "metadata": {},
   "source": [
    "**In the rest of the homework, we will use `recipes_df` above, which is a subset of the original dataset.** "
   ]
  },
  {
   "cell_type": "markdown",
   "metadata": {},
   "source": [
    "<br><br>"
   ]
  },
  {
   "cell_type": "markdown",
   "metadata": {
    "deletable": false,
    "editable": false
   },
   "source": [
    "<!-- BEGIN QUESTION -->\n",
    "\n",
    "### 2.1 Longest and shorter recipe names \n",
    "rubric={points:2}\n",
    "\n",
    "**Your tasks:**\n",
    "\n",
    "1. Print the shortest and longest recipe names (length in terms of number of characters) from `recipes_df`. If there is more than one recipe with the same shortest/longest length, store **one** of them in `shortest_recipe` and/or `longest_recipe` as a **string**."
   ]
  },
  {
   "cell_type": "markdown",
   "metadata": {
    "deletable": false,
    "editable": false
   },
   "source": [
    "<div class=\"alert alert-warning\">\n",
    "\n",
    "Solution_2.1\n",
    "    \n",
    "</div>\n",
    "\n",
    "_Points:_ 2"
   ]
  },
  {
   "cell_type": "code",
   "execution_count": 28,
   "metadata": {
    "tags": []
   },
   "outputs": [
    {
     "data": {
      "text/plain": [
       "('bread', 'baked tomatoes with a parmesan cheese crust and balsamic drizzle')"
      ]
     },
     "execution_count": 28,
     "metadata": {},
     "output_type": "execute_result"
    }
   ],
   "source": [
    "shortest_recipe = recipes_df.loc[recipes_df[\"name\"].apply(len).idxmin(), \"name\"]\n",
    "longest_recipe = recipes_df.loc[recipes_df[\"name\"].apply(len).idxmax(), \"name\"]\n",
    "\n",
    "shortest_recipe, longest_recipe"
   ]
  },
  {
   "cell_type": "markdown",
   "metadata": {
    "deletable": false,
    "editable": false
   },
   "source": [
    "<!-- END QUESTION -->\n",
    "\n",
    "<br><br>"
   ]
  },
  {
   "cell_type": "markdown",
   "metadata": {
    "deletable": false,
    "editable": false
   },
   "source": [
    "<!-- BEGIN QUESTION -->\n",
    "\n",
    "### 2.2 More EDA\n",
    "rubric={points:2}\n",
    "\n",
    "**Your tasks:**\n",
    "1. Create a word cloud for the recipe names. You can use [the `wordcloud` package](https://github.com/amueller/word_cloud) for this, which you will have to install in the course environment.\n",
    "```\n",
    "> conda activate cpsc330\n",
    "> conda install -c conda-forge wordcloud\n",
    "```"
   ]
  },
  {
   "cell_type": "markdown",
   "metadata": {
    "deletable": false,
    "editable": false
   },
   "source": [
    "<div class=\"alert alert-warning\">\n",
    "\n",
    "Solution_2.2\n",
    "    \n",
    "</div>\n",
    "\n",
    "_Points:_ 2"
   ]
  },
  {
   "cell_type": "code",
   "execution_count": 29,
   "metadata": {
    "tags": []
   },
   "outputs": [
    {
     "ename": "ModuleNotFoundError",
     "evalue": "No module named 'wordcloud'",
     "output_type": "error",
     "traceback": [
      "\u001b[1;31m---------------------------------------------------------------------------\u001b[0m",
      "\u001b[1;31mModuleNotFoundError\u001b[0m                       Traceback (most recent call last)",
      "Cell \u001b[1;32mIn[29], line 1\u001b[0m\n\u001b[1;32m----> 1\u001b[0m \u001b[38;5;28;01mimport\u001b[39;00m \u001b[38;5;21;01mwordcloud\u001b[39;00m\n\u001b[0;32m      3\u001b[0m \u001b[38;5;28;01mdef\u001b[39;00m \u001b[38;5;21mplot_wordcloud\u001b[39m(text, title\u001b[38;5;241m=\u001b[39m\u001b[38;5;124m\"\u001b[39m\u001b[38;5;124m\"\u001b[39m):\n\u001b[0;32m      4\u001b[0m     wc \u001b[38;5;241m=\u001b[39m wordcloud\u001b[38;5;241m.\u001b[39mWordCloud(width\u001b[38;5;241m=\u001b[39m\u001b[38;5;241m800\u001b[39m, height\u001b[38;5;241m=\u001b[39m\u001b[38;5;241m400\u001b[39m, max_words\u001b[38;5;241m=\u001b[39m\u001b[38;5;241m200\u001b[39m)\u001b[38;5;241m.\u001b[39mgenerate(text)\n",
      "\u001b[1;31mModuleNotFoundError\u001b[0m: No module named 'wordcloud'"
     ]
    }
   ],
   "source": [
    "import wordcloud\n",
    "\n",
    "def plot_wordcloud(text, title=\"\"):\n",
    "    wc = wordcloud.WordCloud(width=800, height=400, max_words=200).generate(text)\n",
    "    plt.figure(figsize=(10, 10))\n",
    "    plt.imshow(wc, interpolation=\"bilinear\")\n",
    "    plt.axis(\"off\")\n",
    "    plt.title(title)\n",
    "    plt.show()\n",
    "\n",
    "plot_wordcloud(\" \".join(recipes_df[\"name\"]), title=\"Word cloud of recipe names\")"
   ]
  },
  {
   "cell_type": "markdown",
   "metadata": {
    "deletable": false,
    "editable": false
   },
   "source": [
    "<!-- END QUESTION -->\n",
    "\n",
    "<br><br>"
   ]
  },
  {
   "cell_type": "markdown",
   "metadata": {
    "deletable": false,
    "editable": false
   },
   "source": [
    "<!-- BEGIN QUESTION -->\n",
    "\n",
    "### 2.3 Representing recipe names\n",
    "rubric={points:3}\n",
    "\n",
    "The next step is creating a representation of recipe names. \n",
    "\n",
    "**Your tasks:**\n",
    "\n",
    "1. Similar to Exercise 1, create sentence embedding representation of recipe names (`name` column in `recipes_df`).  For the rest of the homework, we'll stick to the sentence embedding representation of recipe names.\n",
    "\n",
    "\n",
    "> You might have to convert the recipe names to a list (`recipes_df[\"name\"].tolist()`) for the embedder to work\n",
    "> *If you create a dataframe with sentence embedding representation, set the index to `recipes_df.index` so that the indices match with the indices of the sample we are working with.*  \n",
    "> **This might take a while to run.**\n"
   ]
  },
  {
   "cell_type": "markdown",
   "metadata": {
    "deletable": false,
    "editable": false
   },
   "source": [
    "<div class=\"alert alert-warning\">\n",
    "\n",
    "Solution_2.3\n",
    "    \n",
    "</div>\n",
    "\n",
    "_Points:_ 3"
   ]
  },
  {
   "cell_type": "code",
   "execution_count": 30,
   "metadata": {
    "metadata": {
     "tags": [
      "otter_ignore"
     ]
    },
    "tags": []
   },
   "outputs": [],
   "source": [
    "embedder = SentenceTransformer(\"paraphrase-distilroberta-base-v1\")\n",
    "embeddings = embedder.encode(recipes_df[\"name\"].tolist())\n",
    "emb_recipe_df = pd.DataFrame(embeddings, index=recipes_df.index)"
   ]
  },
  {
   "cell_type": "code",
   "execution_count": 42,
   "metadata": {},
   "outputs": [
    {
     "data": {
      "text/html": [
       "<div>\n",
       "<style scoped>\n",
       "    .dataframe tbody tr th:only-of-type {\n",
       "        vertical-align: middle;\n",
       "    }\n",
       "\n",
       "    .dataframe tbody tr th {\n",
       "        vertical-align: top;\n",
       "    }\n",
       "\n",
       "    .dataframe thead th {\n",
       "        text-align: right;\n",
       "    }\n",
       "</style>\n",
       "<table border=\"1\" class=\"dataframe\">\n",
       "  <thead>\n",
       "    <tr style=\"text-align: right;\">\n",
       "      <th></th>\n",
       "      <th>0</th>\n",
       "      <th>1</th>\n",
       "      <th>2</th>\n",
       "      <th>3</th>\n",
       "      <th>4</th>\n",
       "      <th>5</th>\n",
       "      <th>6</th>\n",
       "      <th>7</th>\n",
       "      <th>8</th>\n",
       "      <th>9</th>\n",
       "      <th>...</th>\n",
       "      <th>758</th>\n",
       "      <th>759</th>\n",
       "      <th>760</th>\n",
       "      <th>761</th>\n",
       "      <th>762</th>\n",
       "      <th>763</th>\n",
       "      <th>764</th>\n",
       "      <th>765</th>\n",
       "      <th>766</th>\n",
       "      <th>767</th>\n",
       "    </tr>\n",
       "  </thead>\n",
       "  <tbody>\n",
       "    <tr>\n",
       "      <th>42</th>\n",
       "      <td>-0.333474</td>\n",
       "      <td>0.227864</td>\n",
       "      <td>-0.307339</td>\n",
       "      <td>0.410549</td>\n",
       "      <td>0.917104</td>\n",
       "      <td>-0.345507</td>\n",
       "      <td>0.305810</td>\n",
       "      <td>0.256676</td>\n",
       "      <td>-0.147711</td>\n",
       "      <td>0.040728</td>\n",
       "      <td>...</td>\n",
       "      <td>-0.053024</td>\n",
       "      <td>-0.209463</td>\n",
       "      <td>0.362418</td>\n",
       "      <td>-0.246085</td>\n",
       "      <td>0.208379</td>\n",
       "      <td>-0.024874</td>\n",
       "      <td>0.506561</td>\n",
       "      <td>0.197738</td>\n",
       "      <td>-0.386422</td>\n",
       "      <td>-0.002183</td>\n",
       "    </tr>\n",
       "    <tr>\n",
       "      <th>101</th>\n",
       "      <td>-0.024523</td>\n",
       "      <td>0.246223</td>\n",
       "      <td>-0.055709</td>\n",
       "      <td>0.358273</td>\n",
       "      <td>0.454786</td>\n",
       "      <td>-0.088054</td>\n",
       "      <td>0.260368</td>\n",
       "      <td>0.231947</td>\n",
       "      <td>0.093013</td>\n",
       "      <td>-0.007834</td>\n",
       "      <td>...</td>\n",
       "      <td>0.144860</td>\n",
       "      <td>-0.435459</td>\n",
       "      <td>0.208344</td>\n",
       "      <td>-0.002655</td>\n",
       "      <td>-0.081200</td>\n",
       "      <td>-0.130489</td>\n",
       "      <td>0.452378</td>\n",
       "      <td>0.186310</td>\n",
       "      <td>-0.278501</td>\n",
       "      <td>0.028580</td>\n",
       "    </tr>\n",
       "    <tr>\n",
       "      <th>129</th>\n",
       "      <td>-0.026562</td>\n",
       "      <td>0.194671</td>\n",
       "      <td>0.038101</td>\n",
       "      <td>-0.099181</td>\n",
       "      <td>0.653784</td>\n",
       "      <td>-0.230868</td>\n",
       "      <td>0.064517</td>\n",
       "      <td>0.001376</td>\n",
       "      <td>-0.061280</td>\n",
       "      <td>0.232095</td>\n",
       "      <td>...</td>\n",
       "      <td>0.169605</td>\n",
       "      <td>0.239355</td>\n",
       "      <td>0.392649</td>\n",
       "      <td>0.271398</td>\n",
       "      <td>-0.093971</td>\n",
       "      <td>0.060101</td>\n",
       "      <td>-0.281417</td>\n",
       "      <td>0.133210</td>\n",
       "      <td>-0.122344</td>\n",
       "      <td>-0.109864</td>\n",
       "    </tr>\n",
       "    <tr>\n",
       "      <th>138</th>\n",
       "      <td>-0.168002</td>\n",
       "      <td>-0.219219</td>\n",
       "      <td>0.330761</td>\n",
       "      <td>0.302196</td>\n",
       "      <td>-0.173169</td>\n",
       "      <td>0.204557</td>\n",
       "      <td>0.192390</td>\n",
       "      <td>0.140975</td>\n",
       "      <td>0.303174</td>\n",
       "      <td>0.038063</td>\n",
       "      <td>...</td>\n",
       "      <td>0.019094</td>\n",
       "      <td>-0.002448</td>\n",
       "      <td>0.437833</td>\n",
       "      <td>0.563785</td>\n",
       "      <td>0.033443</td>\n",
       "      <td>0.187657</td>\n",
       "      <td>0.529252</td>\n",
       "      <td>-0.233786</td>\n",
       "      <td>0.509931</td>\n",
       "      <td>0.410715</td>\n",
       "    </tr>\n",
       "    <tr>\n",
       "      <th>163</th>\n",
       "      <td>0.061076</td>\n",
       "      <td>-0.333798</td>\n",
       "      <td>0.242905</td>\n",
       "      <td>0.395978</td>\n",
       "      <td>-0.466468</td>\n",
       "      <td>0.496504</td>\n",
       "      <td>-0.136754</td>\n",
       "      <td>0.122097</td>\n",
       "      <td>0.114249</td>\n",
       "      <td>0.065318</td>\n",
       "      <td>...</td>\n",
       "      <td>0.044438</td>\n",
       "      <td>-0.213657</td>\n",
       "      <td>0.410352</td>\n",
       "      <td>-0.233599</td>\n",
       "      <td>-0.224422</td>\n",
       "      <td>0.094331</td>\n",
       "      <td>0.173351</td>\n",
       "      <td>0.105781</td>\n",
       "      <td>-0.114749</td>\n",
       "      <td>-0.150678</td>\n",
       "    </tr>\n",
       "    <tr>\n",
       "      <th>...</th>\n",
       "      <td>...</td>\n",
       "      <td>...</td>\n",
       "      <td>...</td>\n",
       "      <td>...</td>\n",
       "      <td>...</td>\n",
       "      <td>...</td>\n",
       "      <td>...</td>\n",
       "      <td>...</td>\n",
       "      <td>...</td>\n",
       "      <td>...</td>\n",
       "      <td>...</td>\n",
       "      <td>...</td>\n",
       "      <td>...</td>\n",
       "      <td>...</td>\n",
       "      <td>...</td>\n",
       "      <td>...</td>\n",
       "      <td>...</td>\n",
       "      <td>...</td>\n",
       "      <td>...</td>\n",
       "      <td>...</td>\n",
       "      <td>...</td>\n",
       "    </tr>\n",
       "    <tr>\n",
       "      <th>231514</th>\n",
       "      <td>-0.106531</td>\n",
       "      <td>-0.034574</td>\n",
       "      <td>0.160071</td>\n",
       "      <td>0.258504</td>\n",
       "      <td>0.882480</td>\n",
       "      <td>0.091899</td>\n",
       "      <td>0.008815</td>\n",
       "      <td>0.372013</td>\n",
       "      <td>-0.266542</td>\n",
       "      <td>0.085018</td>\n",
       "      <td>...</td>\n",
       "      <td>0.063240</td>\n",
       "      <td>-0.099133</td>\n",
       "      <td>0.332694</td>\n",
       "      <td>0.031868</td>\n",
       "      <td>0.582796</td>\n",
       "      <td>0.216874</td>\n",
       "      <td>0.241107</td>\n",
       "      <td>0.091759</td>\n",
       "      <td>-0.261551</td>\n",
       "      <td>-0.082310</td>\n",
       "    </tr>\n",
       "    <tr>\n",
       "      <th>231539</th>\n",
       "      <td>0.032241</td>\n",
       "      <td>0.358776</td>\n",
       "      <td>0.035928</td>\n",
       "      <td>0.159231</td>\n",
       "      <td>0.446191</td>\n",
       "      <td>0.005988</td>\n",
       "      <td>-0.120629</td>\n",
       "      <td>-0.011145</td>\n",
       "      <td>-0.200736</td>\n",
       "      <td>-0.138867</td>\n",
       "      <td>...</td>\n",
       "      <td>0.129480</td>\n",
       "      <td>-0.087242</td>\n",
       "      <td>0.571368</td>\n",
       "      <td>-0.039195</td>\n",
       "      <td>0.228918</td>\n",
       "      <td>0.307089</td>\n",
       "      <td>0.014225</td>\n",
       "      <td>-0.536663</td>\n",
       "      <td>-0.086178</td>\n",
       "      <td>0.022649</td>\n",
       "    </tr>\n",
       "    <tr>\n",
       "      <th>231547</th>\n",
       "      <td>0.016149</td>\n",
       "      <td>-0.053036</td>\n",
       "      <td>-0.035097</td>\n",
       "      <td>-0.021835</td>\n",
       "      <td>0.735161</td>\n",
       "      <td>0.245519</td>\n",
       "      <td>-0.151837</td>\n",
       "      <td>0.003954</td>\n",
       "      <td>0.102566</td>\n",
       "      <td>0.001362</td>\n",
       "      <td>...</td>\n",
       "      <td>0.102296</td>\n",
       "      <td>0.023821</td>\n",
       "      <td>0.602685</td>\n",
       "      <td>-0.067071</td>\n",
       "      <td>0.177534</td>\n",
       "      <td>0.253982</td>\n",
       "      <td>0.242439</td>\n",
       "      <td>-0.436001</td>\n",
       "      <td>-0.053910</td>\n",
       "      <td>0.012423</td>\n",
       "    </tr>\n",
       "    <tr>\n",
       "      <th>231596</th>\n",
       "      <td>0.026659</td>\n",
       "      <td>0.202483</td>\n",
       "      <td>0.344634</td>\n",
       "      <td>-0.138708</td>\n",
       "      <td>0.514423</td>\n",
       "      <td>0.630947</td>\n",
       "      <td>-0.003165</td>\n",
       "      <td>-0.102897</td>\n",
       "      <td>-0.434900</td>\n",
       "      <td>-0.192056</td>\n",
       "      <td>...</td>\n",
       "      <td>-0.162457</td>\n",
       "      <td>0.130696</td>\n",
       "      <td>0.113645</td>\n",
       "      <td>0.186649</td>\n",
       "      <td>-0.155392</td>\n",
       "      <td>0.130507</td>\n",
       "      <td>1.146238</td>\n",
       "      <td>-0.240861</td>\n",
       "      <td>0.236831</td>\n",
       "      <td>0.177123</td>\n",
       "    </tr>\n",
       "    <tr>\n",
       "      <th>231629</th>\n",
       "      <td>-0.031946</td>\n",
       "      <td>-0.258189</td>\n",
       "      <td>-0.079766</td>\n",
       "      <td>-0.507932</td>\n",
       "      <td>-0.155580</td>\n",
       "      <td>0.635225</td>\n",
       "      <td>-0.127390</td>\n",
       "      <td>0.062607</td>\n",
       "      <td>0.146174</td>\n",
       "      <td>-0.004416</td>\n",
       "      <td>...</td>\n",
       "      <td>0.043948</td>\n",
       "      <td>-0.066851</td>\n",
       "      <td>0.167459</td>\n",
       "      <td>-0.087434</td>\n",
       "      <td>-0.097305</td>\n",
       "      <td>0.265510</td>\n",
       "      <td>-0.099822</td>\n",
       "      <td>-0.569382</td>\n",
       "      <td>-0.219148</td>\n",
       "      <td>-0.033525</td>\n",
       "    </tr>\n",
       "  </tbody>\n",
       "</table>\n",
       "<p>9100 rows × 768 columns</p>\n",
       "</div>"
      ],
      "text/plain": [
       "               0         1         2         3         4         5         6  \\\n",
       "42     -0.333474  0.227864 -0.307339  0.410549  0.917104 -0.345507  0.305810   \n",
       "101    -0.024523  0.246223 -0.055709  0.358273  0.454786 -0.088054  0.260368   \n",
       "129    -0.026562  0.194671  0.038101 -0.099181  0.653784 -0.230868  0.064517   \n",
       "138    -0.168002 -0.219219  0.330761  0.302196 -0.173169  0.204557  0.192390   \n",
       "163     0.061076 -0.333798  0.242905  0.395978 -0.466468  0.496504 -0.136754   \n",
       "...          ...       ...       ...       ...       ...       ...       ...   \n",
       "231514 -0.106531 -0.034574  0.160071  0.258504  0.882480  0.091899  0.008815   \n",
       "231539  0.032241  0.358776  0.035928  0.159231  0.446191  0.005988 -0.120629   \n",
       "231547  0.016149 -0.053036 -0.035097 -0.021835  0.735161  0.245519 -0.151837   \n",
       "231596  0.026659  0.202483  0.344634 -0.138708  0.514423  0.630947 -0.003165   \n",
       "231629 -0.031946 -0.258189 -0.079766 -0.507932 -0.155580  0.635225 -0.127390   \n",
       "\n",
       "               7         8         9  ...       758       759       760  \\\n",
       "42      0.256676 -0.147711  0.040728  ... -0.053024 -0.209463  0.362418   \n",
       "101     0.231947  0.093013 -0.007834  ...  0.144860 -0.435459  0.208344   \n",
       "129     0.001376 -0.061280  0.232095  ...  0.169605  0.239355  0.392649   \n",
       "138     0.140975  0.303174  0.038063  ...  0.019094 -0.002448  0.437833   \n",
       "163     0.122097  0.114249  0.065318  ...  0.044438 -0.213657  0.410352   \n",
       "...          ...       ...       ...  ...       ...       ...       ...   \n",
       "231514  0.372013 -0.266542  0.085018  ...  0.063240 -0.099133  0.332694   \n",
       "231539 -0.011145 -0.200736 -0.138867  ...  0.129480 -0.087242  0.571368   \n",
       "231547  0.003954  0.102566  0.001362  ...  0.102296  0.023821  0.602685   \n",
       "231596 -0.102897 -0.434900 -0.192056  ... -0.162457  0.130696  0.113645   \n",
       "231629  0.062607  0.146174 -0.004416  ...  0.043948 -0.066851  0.167459   \n",
       "\n",
       "             761       762       763       764       765       766       767  \n",
       "42     -0.246085  0.208379 -0.024874  0.506561  0.197738 -0.386422 -0.002183  \n",
       "101    -0.002655 -0.081200 -0.130489  0.452378  0.186310 -0.278501  0.028580  \n",
       "129     0.271398 -0.093971  0.060101 -0.281417  0.133210 -0.122344 -0.109864  \n",
       "138     0.563785  0.033443  0.187657  0.529252 -0.233786  0.509931  0.410715  \n",
       "163    -0.233599 -0.224422  0.094331  0.173351  0.105781 -0.114749 -0.150678  \n",
       "...          ...       ...       ...       ...       ...       ...       ...  \n",
       "231514  0.031868  0.582796  0.216874  0.241107  0.091759 -0.261551 -0.082310  \n",
       "231539 -0.039195  0.228918  0.307089  0.014225 -0.536663 -0.086178  0.022649  \n",
       "231547 -0.067071  0.177534  0.253982  0.242439 -0.436001 -0.053910  0.012423  \n",
       "231596  0.186649 -0.155392  0.130507  1.146238 -0.240861  0.236831  0.177123  \n",
       "231629 -0.087434 -0.097305  0.265510 -0.099822 -0.569382 -0.219148 -0.033525  \n",
       "\n",
       "[9100 rows x 768 columns]"
      ]
     },
     "execution_count": 42,
     "metadata": {},
     "output_type": "execute_result"
    }
   ],
   "source": [
    "emb_recipe_df"
   ]
  },
  {
   "cell_type": "markdown",
   "metadata": {
    "deletable": false,
    "editable": false
   },
   "source": [
    "<!-- END QUESTION -->\n",
    "\n",
    "<br><br><br><br>"
   ]
  },
  {
   "cell_type": "markdown",
   "metadata": {},
   "source": [
    "## Exercise 3: Clustering recipe names\n",
    "<hr>\n",
    "\n",
    "In this exercise you'll cluster recipe names with some of the clustering algorithms we have seen in class. This will also involve making some attempts to pick reasonable hyperparameter values for each clustering method based on the quality of the resulting clusters. For example, for KMeans, you need to specify the number of clusters in advance, which is often challenging on real-world datasets. For DBSCAN, you need to pick appropriate `eps` and `min_samples`. For hierarchical clustering, you need to pick a suitable linkage criterion, distance metric, and prune the tree so that it's possible to visualize and interpret it. \n",
    "\n",
    "Here are some methods which may help you with picking reasonable values for the hyperparameters. \n",
    "- Visualize the Elbow plot (KMeans). \n",
    "- Visualize Silhouette plots. \n",
    "- Visualize resulting clusters using `plot_umap_clusters` function from Exercise 1. \n",
    "- Sample some recipes from each cluster, manually inspect whether there are coherent semantic themes. (For this, you may use the function `print_clusters` given below.) \n",
    "        \n",
    "> You may use the [`yellowbrick`](https://www.scikit-yb.org/en/latest/) package for visualizing the Elbow plot and the Silhouette plots. You can intall it with\n",
    "\n",
    "```conda install -c districtdatalabs yellowbrick```\n",
    "\n",
    "**Note that the process of picking reasonable hyperparameter values will be exploratory, iterative, and will involve manual inspection and judgment, as there is no ground truth to verify how well the model is doing. In your solutions, please do not include everything you try. Only present the results of the most informative trials. Add a narrative to your answer so that it's easy for the grader to follow your choices and reasoning.** "
   ]
  },
  {
   "cell_type": "code",
   "execution_count": 31,
   "metadata": {},
   "outputs": [],
   "source": [
    "def print_clusters(recipes_df, cluster_labels, n_recipes=10, replace=False, random_state=None):\n",
    "    \"\"\"\n",
    "    Given recipes_df containing recipe names and cluster assignment (labels), \n",
    "    sample and print n_recipes recipes per cluster. \n",
    "\n",
    "    Parameters\n",
    "    -----------\n",
    "    recipe_df : pandas dataframe \n",
    "        recipes dataframe containing recipe names in the \"name\" column\n",
    "    cluster_labels : ndarray or a list\n",
    "        cluster labels for each row in recipes_df \n",
    "    n_recipes : int\n",
    "        number of examples to sample from each cluster\n",
    "    replace: bool\n",
    "        replace flag to pass to the sampling of recipe names\n",
    "\n",
    "    Returns\n",
    "    -----------\n",
    "    None\n",
    "    \"\"\"    \n",
    "    \n",
    "    grouped = (\n",
    "        pd.DataFrame(\n",
    "            {\n",
    "                \"name\": recipes_df[\"name\"],\n",
    "                \"cluster_label\": cluster_labels,\n",
    "            }\n",
    "        )\n",
    "        .sort_values(\"cluster_label\")\n",
    "        .groupby(\"cluster_label\")    \n",
    "    )\n",
    "    \n",
    "    for name, group in grouped:\n",
    "        print(f\"Cluster {name}\")        \n",
    "        print((\"----------\").format(\"\"))        \n",
    "        print(\"\\n\".join(group.sample(n_recipes, random_state=random_state)['name'].tolist()))\n",
    "        print(\"\\n\\n\")"
   ]
  },
  {
   "cell_type": "markdown",
   "metadata": {},
   "source": [
    "<br><br>"
   ]
  },
  {
   "cell_type": "markdown",
   "metadata": {
    "deletable": false,
    "editable": false
   },
   "source": [
    "<!-- BEGIN QUESTION -->\n",
    "\n",
    "### 3.1 K-Means\n",
    "rubric={points:6}\n",
    "\n",
    "**Your tasks:**\n",
    "\n",
    "1. Cluster recipe titles using KMeans. Make some attempts to determine the optimal number of clusters. \n",
    "2. Pick one or two best models and justify your choice. "
   ]
  },
  {
   "cell_type": "markdown",
   "metadata": {
    "deletable": false,
    "editable": false
   },
   "source": [
    "<div class=\"alert alert-warning\">\n",
    "\n",
    "Solution_3.1\n",
    "    \n",
    "</div>\n",
    "\n",
    "_Points:_ 6"
   ]
  },
  {
   "cell_type": "markdown",
   "metadata": {},
   "source": [
    "I selected the k-value 28 using the elbow method where we get the best 'bang for our buck' without overfitting too hard on the data, but still getting a decent decent distortion scores which represent within cluster errors.\n",
    "\n",
    "Since we tested both K=27, and 29, we can just select k = 28 according to KElbowVisualizer. \n",
    "\n"
   ]
  },
  {
   "cell_type": "code",
   "execution_count": null,
   "metadata": {
    "metadata": {
     "tags": [
      "otter_ignore"
     ]
    },
    "tags": [
     "otter_ignore"
    ]
   },
   "outputs": [],
   "source": [
    "k_values = [1, 3, 5, 10, 50, 100, 500, 1000, 1500]\n",
    "# Smaller Values of K are deceivingly correct.\n",
    "# When i just had 100 as my max K value, 28 worked best, now its grim AF\n",
    "from yellowbrick.cluster import KElbowVisualizer\n",
    "\n",
    "model = KMeans(n_init='auto')\n",
    "visualizer = KElbowVisualizer(model, k=k_values)\n",
    "\n",
    "visualizer.fit(emb_recipe_df) \n",
    "visualizer.show();\n",
    "    \n",
    "    "
   ]
  },
  {
   "cell_type": "code",
   "execution_count": 39,
   "metadata": {
    "metadata": {
     "tags": [
      "otter_ignore"
     ]
    },
    "tags": []
   },
   "outputs": [],
   "source": [
    "kmeans = KMeans(n_init='auto', n_clusters=28)\n",
    "clusters = kmeans.fit_predict(emb_recipe_df)"
   ]
  },
  {
   "cell_type": "code",
   "execution_count": 40,
   "metadata": {
    "metadata": {
     "tags": [
      "otter_ignore"
     ]
    },
    "tags": []
   },
   "outputs": [
    {
     "name": "stdout",
     "output_type": "stream",
     "text": [
      "Cluster 0\n",
      "----------\n",
      "our favorite tzatziki sauce\n",
      "nif s chili to take the chill off  vegetarian or vegan\n",
      "pickle sauce  michael smith\n",
      "moo shu vegetables\n",
      "stuffed green bell  peppers\n",
      "kelly s  chunky  haystacks\n",
      "figs wrapped in country ham\n",
      "mexicana rice\n",
      "weight watchers peanut sauce\n",
      "pumpkin chilli\n",
      "\n",
      "\n",
      "\n",
      "Cluster 1\n",
      "----------\n",
      "two brother s chocolate gobs\n",
      "banana cupcakes\n",
      "lannette s chocolate macaroon tunnel cake\n",
      "lemon yogurt cake  ina garten\n",
      "ina clara chocolate cake\n",
      "sour cream cinnamon cupcakes\n",
      "my husband s fave blueberry coffee cake\n",
      "sunsweet s fudgy chocolate cake\n",
      "chocolate fire cake\n",
      "chocolate cake w  vanilla sauce\n",
      "\n",
      "\n",
      "\n",
      "Cluster 2\n",
      "----------\n",
      "chef boy i be illinois  baked cod casserole\n",
      "polenta casserole with sauteed bell peppers and sausage\n",
      "quick and easy lasagna\n",
      "angel food torte\n",
      "deviled ham   egg casserole\n",
      "creamy alfredo with tofu shirataki\n",
      "baked monte cristo sandwich\n",
      "it s a keeper casserole\n",
      "tater tot  beef   cheese casserole\n",
      "my family s favorite chili\n",
      "\n",
      "\n",
      "\n",
      "Cluster 3\n",
      "----------\n",
      "pat s chocolate cookies\n",
      "filbert finger cookies\n",
      "caraway cookies   kokosndkager\n",
      "mary alden s oatmeal cookies\n",
      "nelson family cookie bake ting a lings\n",
      "mama s started in texas buttermilk biscuits\n",
      "no bake date balls\n",
      "skor cookies\n",
      "kitchen sink cookies\n",
      "cherry gems  cookies\n",
      "\n",
      "\n",
      "\n",
      "Cluster 4\n",
      "----------\n",
      "sesame soy dressing\n",
      "granny s southern cornbread dressing\n",
      "orange oregano dressing\n",
      "barbeque vinaigrette salad dressing\n",
      "taylor s landing spinach salad with honey mustard dressing\n",
      "greek  style house dressing\n",
      "mixed baby greens with creamy dressing\n",
      "raspberry vinaigrette salad dressing\n",
      "creamy greek dressing with feta\n",
      "squash dressing\n",
      "\n",
      "\n",
      "\n",
      "Cluster 5\n",
      "----------\n",
      "chanel no  6\n",
      "rhubarb torte\n",
      "bran squares\n",
      "truffle torte\n",
      "paris hilton s favorite drink\n",
      "corn marrakesh\n",
      "loaded grecian\n",
      "new orleans cafe brulot\n",
      "jalapeno boats\n",
      "pollo alla cacciatora\n",
      "\n",
      "\n",
      "\n",
      "Cluster 6\n",
      "----------\n",
      "maple pecan cornbread\n",
      "crawfish cornbread  appetizer\n",
      "fat blasting berry smoothie\n",
      "cornmeal rye waffles\n",
      "creamy vanilla raspberry pavlova\n",
      "hot buttered bourbon  with nutmeg butter\n",
      "butternut snap malter  fruit dip  spread or icing\n",
      "super easy caramel corn\n",
      "apple snickerdoodles\n",
      "wicklow pancakes   ireland\n",
      "\n",
      "\n",
      "\n",
      "Cluster 7\n",
      "----------\n",
      "maple and dijon glazed brussels sprouts\n",
      "parmesan chicken cutlets and popcorn chicken for the kids\n",
      "chicken and spinach manicotti or shells\n",
      "sauteed chicken with white wine mustard sauce\n",
      "hot spinach balls   spicy mustard sauce\n",
      "pasta with a anchovy  spinach and pine nut sauce\n",
      "mozzarella and roasted red pepper toasts\n",
      "marinated chicken thighs with tangy apricot glaze\n",
      "roasted fennel\n",
      "monterey cheese and chicken tortillas\n",
      "\n",
      "\n",
      "\n",
      "Cluster 8\n",
      "----------\n",
      "church lady martini\n",
      "key lime martini\n",
      "velvet martini\n",
      "chocolate truffle martini\n",
      "mike s black cherry chocolate martini\n",
      "caramel macchiato martini\n",
      "asian pear martini\n",
      "lychee saketini blush\n",
      "turtle doves martini\n",
      "boston creme pie martini\n",
      "\n",
      "\n",
      "\n",
      "Cluster 9\n",
      "----------\n",
      "the best banoffee pie you ll ever make\n",
      "deluxe chocolate pie\n",
      "steak and kidney pie\n",
      "peach chiffon pie\n",
      "south beach diet shepherd s pie\n",
      "beef and stout pie\n",
      "spicy sweet potato puff\n",
      "banana breeze pie\n",
      "mixed nut pie\n",
      "your favorite pie filling  dessert\n",
      "\n",
      "\n",
      "\n",
      "Cluster 10\n",
      "----------\n",
      "dan street special\n",
      "loved up\n",
      "golden kiss\n",
      "licorice stick  shot\n",
      "blueberry magic\n",
      "mud flap\n",
      "megadarra   mujadarah\n",
      "black unicorn\n",
      "russian qualude\n",
      "procession of the pink elephants\n",
      "\n",
      "\n",
      "\n",
      "Cluster 11\n",
      "----------\n",
      "champagne vinaigrette dressing\n",
      "basil garlic vinaigrette\n",
      "pampered chef vinaigrette\n",
      "salad with walnut vinaigrette and warm chevre\n",
      "brown sugar vinaigrette\n",
      "tea vinaigrette\n",
      "pomegranate vinaigrette\n",
      "fresh basil vinaigrette\n",
      "tangy catalina dressing\n",
      "wasabi vinaigrette\n",
      "\n",
      "\n",
      "\n",
      "Cluster 12\n",
      "----------\n",
      "peanut butter munchies\n",
      "chocolate molten lava brownie bites\n",
      "chocolate covered caramel peanut bars\n",
      "superb no egg white chocolate cranberry cookies\n",
      "doubly chocolate cookies\n",
      "bake off contest  peanut butter brownie cookies\n",
      "butterscotch toffee double chocolate chip cookies\n",
      "chocolate chip panookies\n",
      "the thin   chocolate chip cookies   good eats\n",
      "i love lime white chocolate cookies\n",
      "\n",
      "\n",
      "\n",
      "Cluster 13\n",
      "----------\n",
      "venetian fish soup\n",
      "tomato soup with chickpeas and lentils  tunisia\n",
      "special mexican chicken soup\n",
      "split pea soup with turkey sausage\n",
      "cumin scented wheat berry lentil soup\n",
      "easy chicken and veggie soup\n",
      "steak and portabella soup\n",
      "a memory of french onion soup\n",
      "southwestern chicken   barley soup\n",
      "chicken noodle soup  bill s style\n",
      "\n",
      "\n",
      "\n",
      "Cluster 14\n",
      "----------\n",
      "double corn and green chile muffins\n",
      "tim hortons pumpkin spice muffins\n",
      "lemon blueberry poppy seed muffins\n",
      "double or triple coconut muffins\n",
      "olive feta and rosemary muffins\n",
      "coffee walnut chocolate chip muffins\n",
      "apple pecan muffins\n",
      "tutti frutti muffins\n",
      "simply sinful cinnamon muffins\n",
      "simple harvest muffins\n",
      "\n",
      "\n",
      "\n",
      "Cluster 15\n",
      "----------\n",
      "cranberry almond loaf\n",
      "yogurt whole wheat bread\n",
      "mini breakfast bread bowls  5fix\n",
      "best banana bread recipe\n",
      "authentic sweet mexican corn bread\n",
      "danish lemon bread\n",
      "corny  n spicy cornbread\n",
      "snickerdoodle bread\n",
      "poi bread\n",
      "old fashioned bread pudding  uses soft bread cubes\n",
      "\n",
      "\n",
      "\n",
      "Cluster 16\n",
      "----------\n",
      "sourdough sandwich buns  schlotzsky style\n",
      "alvera s quick sauerbraten meatballs\n",
      "simple brown gravy\n",
      "ginger beer battered fish\n",
      "roast beef au jus\n",
      "spicy beef samosas\n",
      "mother s bavarian pot roast\n",
      "ground beef biscuit stew\n",
      "burger bean cups\n",
      "herb crusted chuck roast\n",
      "\n",
      "\n",
      "\n",
      "Cluster 17\n",
      "----------\n",
      "meatloaf cordon bleu\n",
      "tasty turkey meatloaf\n",
      "no hassle meatloaf\n",
      "cheese stuffed meatloaf\n",
      "meatloaf with raisins\n",
      "classic meatloaf\n",
      "good   easy meat loaf\n",
      "many ahh s meatloaf\n",
      "tasty turkey and sirloin meatloaf\n",
      "mom florence s meatloaf\n",
      "\n",
      "\n",
      "\n",
      "Cluster 18\n",
      "----------\n",
      "yummy cherry bars\n",
      "candied ginger   cardamom bars\n",
      "premier cranberry cream cheese bars\n",
      "pumpkin swirl bars\n",
      "sinful bars\n",
      "cranberry dream bars\n",
      "henry s jerome bars\n",
      "chocolate raspberry layer bars\n",
      "mrs  fields white chunk nutty bars\n",
      "pumpkin pie snickerdoodle bars\n",
      "\n",
      "\n",
      "\n",
      "Cluster 19\n",
      "----------\n",
      "bloody mary pot roast with fall vegetables\n",
      "greenbrier s potatoes\n",
      "lemon roasted potatoes\n",
      "red scalloped potatoes\n",
      "easy scalloped potatoes and ham\n",
      "mediterranean roasted potatoes for clay cooker\n",
      "twice baked garlic potatoes\n",
      "roasted garlic and herb mash potatoes\n",
      "italian new potato bake\n",
      "mom s baked cowboy beans\n",
      "\n",
      "\n",
      "\n",
      "Cluster 20\n",
      "----------\n",
      "bailey s brownies\n",
      "these chocolate brownies are nuts\n",
      "almond softies\n",
      "raspberry brownie dessert\n",
      "secret ingredient  brownie\n",
      "death by cherry brownies\n",
      "nutella mocha\n",
      "grandma s chocolate syrup brownies\n",
      "bailey s irish cream brownies\n",
      "blond toffee brownies\n",
      "\n",
      "\n",
      "\n",
      "Cluster 21\n",
      "----------\n",
      "baby spinach  n pineapple salad\n",
      "dijon potato salad\n",
      "tomato salad with goat cheese\n",
      "okra walnut salad\n",
      "green goddess salad\n",
      "pacific flavours salad\n",
      "kiwi strawberry spinach salad\n",
      "blokey egg and sausage potato salad\n",
      "budget pasta salad\n",
      "healthy tuna salad\n",
      "\n",
      "\n",
      "\n",
      "Cluster 22\n",
      "----------\n",
      "fantastic  crackle top  sugar cinnamon cookies\n",
      "easy peanut butter shortbread cookies\n",
      "rosemary cookies\n",
      "lays potato chip cookies\n",
      "frosted lemon cookies\n",
      "moist oatmeal raisin cookies\n",
      "build your own healthy cookies\n",
      "almond brittle bar cookies\n",
      "ginger   brown sugar cookies\n",
      "plain peanut biscuits  cookies\n",
      "\n",
      "\n",
      "\n",
      "Cluster 23\n",
      "----------\n",
      "strawberry preserve cake\n",
      "upside down pumpkin cake\n",
      "funny bones  cake\n",
      "blueberry crumb cake\n",
      "the best easy to make dump cake\n",
      "rosemary pineapple cake\n",
      "ginger marmalade cake\n",
      "honeybee gluten free dump cake\n",
      "butter rum pound cake\n",
      "coon cake\n",
      "\n",
      "\n",
      "\n",
      "Cluster 24\n",
      "----------\n",
      "hot and spicy cocktail nuts\n",
      "cranberry margaritas   the lightship restaurant\n",
      "diner s wine  mojito\n",
      "danish gin fizz\n",
      "coffee coolata\n",
      "hazie morning latte\n",
      "pineapple mint iced tea\n",
      "blackberry   orange iced tea\n",
      "coffee keokee\n",
      "tequila canyon\n",
      "\n",
      "\n",
      "\n",
      "Cluster 25\n",
      "----------\n",
      "sesame chicken skewers\n",
      "sweet n  spicy chicken wings\n",
      "fluffy rice and chicken\n",
      "panko crusted chicken with honey mustard sauce\n",
      "baked chicken continentale\n",
      "apple cider chicken\n",
      "margarita on the rocks chicken\n",
      "weight watcher s general tsao s chicken\n",
      "another chicken recipe\n",
      "pan seared chicken with blueberry sauce\n",
      "\n",
      "\n",
      "\n",
      "Cluster 26\n",
      "----------\n",
      "pineapple agua fresca\n",
      "roasted garlic and mushroom pizza\n",
      "potato  tomato and cheese tart\n",
      "orange basil mojito\n",
      "cinnabon roll cappuccino\n",
      "cranberry cheese danish\n",
      "extra easy bisquick pizza\n",
      "quick and creamy sausage and pasta\n",
      "brie and pear pizza\n",
      "the realtor s perfect pizza primer w  dough recipe\n",
      "\n",
      "\n",
      "\n",
      "Cluster 27\n",
      "----------\n",
      "cheesecake factory chopped salad\n",
      "berry  or cherry  cheesecake bars\n",
      "heavenly kahlua cheesecake\n",
      "easy caramel pecan cheesecake\n",
      "cheesecake cookie bars\n",
      "no bake cheesecake\n",
      "s more cheesecake\n",
      "grated cheesecake\n",
      "for my sweetie cheesecake\n",
      "healthy protein pumpkin cheesecake\n",
      "\n",
      "\n",
      "\n"
     ]
    }
   ],
   "source": [
    "print_clusters(recipes_df, clusters)"
   ]
  },
  {
   "cell_type": "code",
   "execution_count": 37,
   "metadata": {
    "metadata": {
     "tags": [
      "otter_ignore"
     ]
    },
    "tags": []
   },
   "outputs": [
    {
     "name": "stderr",
     "output_type": "stream",
     "text": [
      "C:\\Users\\cedar\\miniconda3\\envs\\cpsc330\\Lib\\site-packages\\umap\\umap_.py:1952: UserWarning: n_jobs value 1 overridden to 1 by setting random_state. Use no seed for parallelism.\n",
      "  warn(\n"
     ]
    },
    {
     "data": {
      "image/png": "[encoded data removed]",
      "text/plain": [
       "<Figure size 600x500 with 1 Axes>"
      ]
     },
     "metadata": {},
     "output_type": "display_data"
    }
   ],
   "source": [
    "recipes_df[\"emb_KMeans\"] = clusters\n",
    "\n",
    "plot_umap_clusters(\n",
    "    emb_recipe_df,\n",
    "    recipes_df[\"emb_KMeans\"],\n",
    "    title=\"Kmeans results for recipes\",\n",
    ")\n"
   ]
  },
  {
   "cell_type": "code",
   "execution_count": null,
   "metadata": {
    "tags": []
   },
   "outputs": [],
   "source": []
  },
  {
   "cell_type": "code",
   "execution_count": null,
   "metadata": {
    "tags": []
   },
   "outputs": [],
   "source": []
  },
  {
   "cell_type": "code",
   "execution_count": null,
   "metadata": {
    "tags": []
   },
   "outputs": [],
   "source": [
    "..."
   ]
  },
  {
   "cell_type": "markdown",
   "metadata": {
    "deletable": false,
    "editable": false
   },
   "source": [
    "<!-- END QUESTION -->\n",
    "\n",
    "<br><br><br><br>"
   ]
  },
  {
   "cell_type": "markdown",
   "metadata": {
    "deletable": false,
    "editable": false
   },
   "source": [
    "<!-- BEGIN QUESTION -->\n",
    "\n",
    "### 3.2 DBSCAN\n",
    "rubric={points:6}\n",
    "\n",
    "**Your tasks:**\n",
    "\n",
    "1. Cluster recipe names using `DBSCAN` with `metric=\"cosine\"`. Make some attempts to tune the  hyperparameters `eps` and `min_samples`. "
   ]
  },
  {
   "cell_type": "markdown",
   "metadata": {
    "deletable": false,
    "editable": false
   },
   "source": [
    "<div class=\"alert alert-warning\">\n",
    "\n",
    "Solution_3.2\n",
    "    \n",
    "</div>\n",
    "\n",
    "_Points:_ 6"
   ]
  },
  {
   "cell_type": "markdown",
   "metadata": {},
   "source": [
    "_Type your answer here, replacing this text._"
   ]
  },
  {
   "cell_type": "code",
   "execution_count": null,
   "metadata": {},
   "outputs": [],
   "source": [
    "from sklearn.model_selection import ParameterGrid\n",
    "from yellowbrick.cluster import SilhouetteVisualizer\n",
    "from sklearn.metrics import silhouette_score\n",
    "\n",
    "param_dist = {\n",
    "    'eps': np.linspace(1, 10, 5),\n",
    "    'min_samples': np.arange(1, 50, 10)\n",
    "}\n",
    "\n",
    "dbscan = DBSCAN()\n",
    "\n",
    "#This takes a million years (20 minutes) to run for just 1 single iteration of DBSCAN. \n",
    "random_search = RandomizedSearchCV(\n",
    "    dbscan,\n",
    "    param_distributions=param_dist,\n",
    "    n_iter=10,\n",
    "    scoring='silhouette_score',\n",
    "    n_jobs=-1,\n",
    "    cv=1\n",
    ")\n",
    "\n",
    "random_search.fit(emb_recipe_df)\n",
    "\n",
    "best_params = random_search.best_params_\n",
    "best_score = random_search.best_score_\n",
    "print(f\"Best Parameters: {best_params}\")\n",
    "print(f\"Best Silhouette Score: {best_score:.2f}\")\n",
    "\n",
    "best_dbscan = DBSCAN(eps=best_params['eps'], min_samples=best_params['min_samples'])\n",
    "visualizer = SilhouetteVisualizer(best_dbscan, colors=\"yellowbrick\")\n",
    "visualizer.fit(X)\n",
    "visualizer.show()\n",
    "\n",
    "silhouette_score = visualizer.silhouette_score_\n",
    "print(f\"Silhouette Score: {silhouette_score:.2f}\")"
   ]
  },
  {
   "cell_type": "code",
   "execution_count": null,
   "metadata": {
    "metadata": {
     "tags": [
      "otter_ignore"
     ]
    },
    "tags": []
   },
   "outputs": [],
   "source": [
    "recipes_df[\"emb_dbscan\"] = best_dbscan\n",
    "recipes_df"
   ]
  },
  {
   "cell_type": "code",
   "execution_count": null,
   "metadata": {},
   "outputs": [],
   "source": [
    "plot_umap_clusters(\n",
    "    emb_recipe_df,\n",
    "    recipes_df[\"emb_dbscan\"],\n",
    "    title=\"DBSCAN Results for recipes\",\n",
    ")\n"
   ]
  },
  {
   "cell_type": "code",
   "execution_count": null,
   "metadata": {
    "tags": []
   },
   "outputs": [],
   "source": []
  },
  {
   "cell_type": "markdown",
   "metadata": {
    "deletable": false,
    "editable": false
   },
   "source": [
    "<!-- END QUESTION -->\n",
    "\n",
    "<br><br>"
   ]
  },
  {
   "cell_type": "markdown",
   "metadata": {
    "deletable": false,
    "editable": false
   },
   "source": [
    "<!-- BEGIN QUESTION -->\n",
    "\n",
    "### 3.3 Hierarchical clustering\n",
    "rubric={points:6}\n",
    "\n",
    "**Your tasks:**\n",
    "\n",
    "1. Try hierarchical clustering with `metric=\"cosine\"` on this problem. Show a dendrogram by using a suitable truncation method. \n",
    "2. Create flat clusters by cutting the tree at the appropriate level. \n",
    "\n",
    "> *Note: Try orientation=\"left\" of `dendrogram` for better readability of the dendrogram.*"
   ]
  },
  {
   "cell_type": "markdown",
   "metadata": {
    "deletable": false,
    "editable": false
   },
   "source": [
    "<div class=\"alert alert-warning\">\n",
    "\n",
    "Solution_3.3\n",
    "    \n",
    "</div>\n",
    "\n",
    "_Points:_ 6"
   ]
  },
  {
   "cell_type": "markdown",
   "metadata": {},
   "source": [
    "_Type your answer here, replacing this text._"
   ]
  },
  {
   "cell_type": "code",
   "execution_count": 43,
   "metadata": {
    "metadata": {
     "tags": [
      "otter_ignore"
     ]
    },
    "tags": []
   },
   "outputs": [
    {
     "data": {
      "image/png": "[encoded data removed]",
      "text/plain": [
       "<Figure size 800x550 with 1 Axes>"
      ]
     },
     "metadata": {},
     "output_type": "display_data"
    }
   ],
   "source": [
    "dendro = linkage(emb_recipe_df, method='average', metric='cosine')\n",
    "dendrogram(dendro, color_threshold=0.5)\n",
    "plt.show()"
   ]
  },
  {
   "cell_type": "code",
   "execution_count": 45,
   "metadata": {
    "metadata": {
     "tags": [
      "otter_ignore"
     ]
    },
    "tags": []
   },
   "outputs": [],
   "source": [
    "\n",
    "hier_emb_labels_recipes = fcluster(dendro, 0.5, criterion='distance')"
   ]
  },
  {
   "cell_type": "code",
   "execution_count": 46,
   "metadata": {
    "metadata": {
     "tags": [
      "otter_ignore"
     ]
    },
    "tags": []
   },
   "outputs": [
    {
     "data": {
      "text/html": [
       "<div>\n",
       "<style scoped>\n",
       "    .dataframe tbody tr th:only-of-type {\n",
       "        vertical-align: middle;\n",
       "    }\n",
       "\n",
       "    .dataframe tbody tr th {\n",
       "        vertical-align: top;\n",
       "    }\n",
       "\n",
       "    .dataframe thead th {\n",
       "        text-align: right;\n",
       "    }\n",
       "</style>\n",
       "<table border=\"1\" class=\"dataframe\">\n",
       "  <thead>\n",
       "    <tr style=\"text-align: right;\">\n",
       "      <th></th>\n",
       "      <th>name</th>\n",
       "      <th>id</th>\n",
       "      <th>minutes</th>\n",
       "      <th>contributor_id</th>\n",
       "      <th>submitted</th>\n",
       "      <th>tags</th>\n",
       "      <th>nutrition</th>\n",
       "      <th>n_steps</th>\n",
       "      <th>steps</th>\n",
       "      <th>description</th>\n",
       "      <th>ingredients</th>\n",
       "      <th>n_ingredients</th>\n",
       "      <th>emb_KMeans</th>\n",
       "      <th>emb_hierarchical</th>\n",
       "    </tr>\n",
       "  </thead>\n",
       "  <tbody>\n",
       "    <tr>\n",
       "      <th>42</th>\n",
       "      <td>i yam what i yam  muffins</td>\n",
       "      <td>93958</td>\n",
       "      <td>45</td>\n",
       "      <td>133174</td>\n",
       "      <td>2004-06-22</td>\n",
       "      <td>['60-minutes-or-less', 'time-to-make', 'course', 'preparation', 'breads', 'muffins', 'quick-breads']</td>\n",
       "      <td>[171.8, 9.0, 28.0, 10.0, 8.0, 4.0, 8.0]</td>\n",
       "      <td>10</td>\n",
       "      <td>['preheat oven to 375 degrees', 'spray muffin tin with non-stick cooking spray and set aside', 'place the raisins in a small bowl and pour the 1 / 4 cup boiling water over them', 'cover and set aside while preparing batter', 'combine the flours , cocoa , baking powder , cinnamon , cloves , baking soda , and salt', 'lightly beat eggs with sorghum , oil , mashed yams and orange juice', 'add the egg mixture and buttermilk alternately to the dry ingredients , stir until well blended', 'drain the raisins and add to batter along with orange peel', 'spoon batter into prepared muffin tins , sprinkle 1 / 4 to 1 / 2 tsp of granulated sugar over each muffin', 'bake in preheated oven for 15 to 20 minutes']</td>\n",
       "      <td>these muffins may have slightly different ingredients but the end result is a wonderful rich, moist muffin. the sugar sprinkled on top before cooking gives a slightly sweet crunch and cracked glazed appearance.</td>\n",
       "      <td>['all-purpose flour', 'buckwheat flour', 'unsweetened cocoa', 'baking powder', 'baking soda', 'salt', 'ground cinnamon', 'ground cloves', 'sorghum', 'eggs', 'yam', 'low-fat buttermilk', 'orange rind', 'orange juice', 'canola oil', 'raisins', 'boiling water', 'granulated sugar']</td>\n",
       "      <td>18</td>\n",
       "      <td>17</td>\n",
       "      <td>1442</td>\n",
       "    </tr>\n",
       "    <tr>\n",
       "      <th>101</th>\n",
       "      <td>to your health  muffins</td>\n",
       "      <td>61973</td>\n",
       "      <td>40</td>\n",
       "      <td>33823</td>\n",
       "      <td>2003-05-12</td>\n",
       "      <td>['60-minutes-or-less', 'time-to-make', 'course', 'preparation', 'breads', 'muffins', 'quick-breads']</td>\n",
       "      <td>[159.0, 8.0, 58.0, 10.0, 7.0, 4.0, 8.0]</td>\n",
       "      <td>5</td>\n",
       "      <td>['blend together in large bowl flour , bran , brown sugar , baking soda , salt , cinnamon , carrots and raisins', 'in second bowl , beat buttermilk , oil , egg and vanilla', 'add liquid ingredients to dry ingredients and mix just until moistened', 'spoon into 12 greased or paper-lined muffin cups', 'bake at 375f for 20 minutes']</td>\n",
       "      <td>these muffins sound like they are very healthy for you, and pretty easy to make. another one of my great finds. to your health. enjoy</td>\n",
       "      <td>['whole wheat flour', 'natural bran', 'brown sugar', 'baking soda', 'salt', 'cinnamon', 'carrot', 'raisins', 'buttermilk', 'corn oil', 'egg', 'vanilla']</td>\n",
       "      <td>12</td>\n",
       "      <td>17</td>\n",
       "      <td>1442</td>\n",
       "    </tr>\n",
       "    <tr>\n",
       "      <th>129</th>\n",
       "      <td>250 00 chocolate chip cookies</td>\n",
       "      <td>118843</td>\n",
       "      <td>20</td>\n",
       "      <td>145599</td>\n",
       "      <td>2005-04-24</td>\n",
       "      <td>['30-minutes-or-less', 'time-to-make', 'course', 'preparation', 'drop-cookies', 'desserts', 'easy', 'cookies-and-brownies', '3-steps-or-less']</td>\n",
       "      <td>[5286.9, 427.0, 1630.0, 159.0, 163.0, 656.0, 224.0]</td>\n",
       "      <td>3</td>\n",
       "      <td>['mix all ingredients together just until blended', 'spoon large tbspfuls onto a baking sheet', 'bake at 350 for 10-14 minutes']</td>\n",
       "      <td>these are great! the perfect name for them!</td>\n",
       "      <td>['butter', 'white sugar', 'brown sugar', 'eggs', 'vanilla', 'flour', 'oatmeal', 'salt', 'baking powder', 'baking soda', 'chocolate chips', \"hershey's semi-sweet baking chocolate\", 'nuts']</td>\n",
       "      <td>13</td>\n",
       "      <td>1</td>\n",
       "      <td>1469</td>\n",
       "    </tr>\n",
       "    <tr>\n",
       "      <th>138</th>\n",
       "      <td>lplermagronen</td>\n",
       "      <td>455351</td>\n",
       "      <td>55</td>\n",
       "      <td>1308592</td>\n",
       "      <td>2011-05-07</td>\n",
       "      <td>['60-minutes-or-less', 'time-to-make', 'preparation']</td>\n",
       "      <td>[651.8, 33.0, 12.0, 16.0, 32.0, 63.0, 33.0]</td>\n",
       "      <td>15</td>\n",
       "      <td>['heat oven to 375f set a large pot of salted water to boil', 'heat butter / oil over medium-low heat in a frying pan', 'add onions and fry them until golden brown', 'add penne and potatoes to the salted water', 'stir to make sure pasta doesnt stick together', 'cook until tender , about 15 minutes', 'drain penne and potatoes', 'combine milk / cream with salt and pepper', 'in an ovenproof casserole dish , place 1 / 3 of the penne-potatoes , sprinkle with 1 / 2 of the grated cheese', 'make another layer with 1 / 3 of the penne-potatoes , sprinkle with the other 1 / 2 of the grated cheese', 'top with the remaining 1 / 3 of the penne-potatoes', 'pour the seasoned milk / cream evenly over the top', 'spread the browned onions on top', 'bake covered for 10-15 minutes until steaming hot and cheese is melted', 'serve with warmed applesauce']</td>\n",
       "      <td>known as swiss mac n cheese, älplermagronen was traditionally a dish of peasant farmers  served with apple sauce. taken from growchew.wordpress.com and posted for zwt7</td>\n",
       "      <td>['potato', 'penne pasta', 'onions', 'butter', 'cheese', 'milk', 'salt and pepper', 'applesauce']</td>\n",
       "      <td>8</td>\n",
       "      <td>3</td>\n",
       "      <td>1649</td>\n",
       "    </tr>\n",
       "    <tr>\n",
       "      <th>163</th>\n",
       "      <td>california roll   salad</td>\n",
       "      <td>318677</td>\n",
       "      <td>12</td>\n",
       "      <td>334242</td>\n",
       "      <td>2008-08-11</td>\n",
       "      <td>['15-minutes-or-less', 'time-to-make', 'course', 'preparation', 'salads']</td>\n",
       "      <td>[455.7, 13.0, 38.0, 72.0, 34.0, 6.0, 26.0]</td>\n",
       "      <td>8</td>\n",
       "      <td>['prepare rice according to directions', 'pour rice into medium bowl and toss with 1 tbsp vinegar', 'set aside', 'thinly slice cucumber and avacado', 'break up crabmeat into chunks', 'mix lettuce leaves with seasoned rice , cucumber , avocado slices and crabmeat', 'in separate cup , mix together soy sauce and remaining 2 tbl of seasoned rice vinegar', 'drizzle this dressing over salad , and add pickled ginger on top of salad']</td>\n",
       "      <td>this is a great light salad that can be your main meal or a side dish.  if you like the sushi taste minus the raw fish, this one is for you!  it is very easy to throw together.  you can buy pickled ginger at supermarkets in little bowls, usually by where they sell packaged sushi.</td>\n",
       "      <td>['white rice', 'seasoned rice vinegar', 'lettuce', 'cucumber', 'avocado', 'imitation crabmeat', 'soy sauce', 'pickled ginger']</td>\n",
       "      <td>8</td>\n",
       "      <td>16</td>\n",
       "      <td>1216</td>\n",
       "    </tr>\n",
       "    <tr>\n",
       "      <th>...</th>\n",
       "      <td>...</td>\n",
       "      <td>...</td>\n",
       "      <td>...</td>\n",
       "      <td>...</td>\n",
       "      <td>...</td>\n",
       "      <td>...</td>\n",
       "      <td>...</td>\n",
       "      <td>...</td>\n",
       "      <td>...</td>\n",
       "      <td>...</td>\n",
       "      <td>...</td>\n",
       "      <td>...</td>\n",
       "      <td>...</td>\n",
       "      <td>...</td>\n",
       "    </tr>\n",
       "    <tr>\n",
       "      <th>231514</th>\n",
       "      <td>zucchini blueberry bread</td>\n",
       "      <td>263560</td>\n",
       "      <td>95</td>\n",
       "      <td>508997</td>\n",
       "      <td>2007-11-06</td>\n",
       "      <td>['time-to-make', 'preparation', 'for-large-groups', 'number-of-servings', '4-hours-or-less']</td>\n",
       "      <td>[311.6, 17.0, 137.0, 10.0, 9.0, 13.0, 16.0]</td>\n",
       "      <td>11</td>\n",
       "      <td>['preheat oven to 350f', 'in a large bowl , combine egg , egg substitute , oil , buttermilk , sugar , zucchini , vanilla , almond extract , and lemon zest', 'sift dry ingredients together and add to zucchini mixture', 'gently fold in blueberries &amp; walnuts', 'pour into 2 greased &amp; floured 8x4-inch bread pans , or one bundt pan', 'bake for 1 1 / 4 hours or until golden brown &amp; toothpick inserted comes out cleanly', 'let cool for about 15 minutes , then invert onto wire rack to cool completely', 'to make glaze: once cake / bread has cooled , melt butter over low heat , then stir in lemon zest and powdered sugar', 'stir in lemon juice , 1 tbsp at a time , until smooth and a good consistency', 'drizzle over cake / bread and sprinkle with freshly grated lemon zest', \"if you are unsure if it is done or not , add a few more minutes - it's almost impossible to over-bake this !\"]</td>\n",
       "      <td>this is my lightened version of recipe #70287. i made it multiple times this summer and it always turned out great - very flavorful &amp; moist. i did find that if you use frozen blueberries, do not thaw them or your batter will turn blue/green! if using frozen, you will need to bake it a little longer as your batter is going into the oven colder. also, if you don't have zucchini, yellow summer squash makes an excellent substitute!</td>\n",
       "      <td>['egg', 'egg substitute', 'canola oil', 'buttermilk', 'sugar', 'zucchini', 'vanilla', 'almond extract', 'lemon zest', 'flour', 'white whole wheat flour', 'baking powder', 'baking soda', 'salt', 'fresh blueberries', 'walnuts', 'butter', 'powdered sugar', 'fresh lemon juice']</td>\n",
       "      <td>19</td>\n",
       "      <td>14</td>\n",
       "      <td>1232</td>\n",
       "    </tr>\n",
       "    <tr>\n",
       "      <th>231539</th>\n",
       "      <td>zucchini parmesan pancakes</td>\n",
       "      <td>70501</td>\n",
       "      <td>26</td>\n",
       "      <td>89831</td>\n",
       "      <td>2003-09-04</td>\n",
       "      <td>['30-minutes-or-less', 'time-to-make', 'course', 'preparation', 'pancakes-and-waffles', 'breakfast', 'dietary']</td>\n",
       "      <td>[397.2, 43.0, 15.0, 19.0, 23.0, 51.0, 8.0]</td>\n",
       "      <td>6</td>\n",
       "      <td>['in a bowl , combine all ingredients except butter and oil', 'in a skillet , melt butter and oil to medium-high', 'drop zucchini mixture by cupfuls into skillet', 'press lightly to flatten', 'fry until golden brown and crispy , about 2 minutes on each side', 'serve with sour cream if desired']</td>\n",
       "      <td>if you love zucchini and parmesan cheese, then you will love these delicious pancakes. serve with a side order of sour cream.</td>\n",
       "      <td>['flour', 'parmesan cheese', 'dried oregano', 'salt and pepper', 'cayenne', 'zucchini', 'egg', 'onion', 'mayonnaise', 'butter', 'oil']</td>\n",
       "      <td>11</td>\n",
       "      <td>23</td>\n",
       "      <td>1232</td>\n",
       "    </tr>\n",
       "    <tr>\n",
       "      <th>231547</th>\n",
       "      <td>zucchini salsa burgers</td>\n",
       "      <td>461060</td>\n",
       "      <td>25</td>\n",
       "      <td>178427</td>\n",
       "      <td>2011-07-28</td>\n",
       "      <td>['30-minutes-or-less', 'time-to-make', 'course', 'preparation', 'main-dish']</td>\n",
       "      <td>[571.0, 47.0, 29.0, 34.0, 59.0, 45.0, 14.0]</td>\n",
       "      <td>8</td>\n",
       "      <td>['combine ground beef , bread crumbs , egg , zucchini , salsa , onion , chili powder , and cumin', 'shape into 4 patties and refrigerate for at least 30 minutes', 'make sauce by combining mayo , salsa , mustard , chili powder , and cumin in a small bowl', 'cook burgers on a gas grill or george foreman grill until done to your liking , about 4-5 minutes per side', 'toast buns , if desired', 'spread bottom bun with sauce , top with burger , cheese , and toppings of your choice', 'spread more sauce on top bun and put on burger', 'serve with dill pickles and french fries or potato chips']</td>\n",
       "      <td>this zippy mexican burger is made healthier with added zucchini. your family is going to love this unique burger with it’s crowd-pleasing salsa sauce.</td>\n",
       "      <td>['ground beef', 'breadcrumbs', 'egg', 'zucchini', 'salsa', 'purple onion', 'chili powder', 'cumin', 'salt and pepper', 'mayonnaise', 'prepared yellow mustard', 'hamburger buns', 'lettuce']</td>\n",
       "      <td>13</td>\n",
       "      <td>0</td>\n",
       "      <td>1010</td>\n",
       "    </tr>\n",
       "    <tr>\n",
       "      <th>231596</th>\n",
       "      <td>zuppa toscana</td>\n",
       "      <td>217670</td>\n",
       "      <td>75</td>\n",
       "      <td>143946</td>\n",
       "      <td>2007-03-20</td>\n",
       "      <td>['time-to-make', 'course', 'preparation', 'soups-stews', '4-hours-or-less']</td>\n",
       "      <td>[631.4, 65.0, 15.0, 70.0, 43.0, 93.0, 13.0]</td>\n",
       "      <td>9</td>\n",
       "      <td>['saut italian sausage and crushed red pepper in pot', 'drain excess fat , set aside', 'in the same pan , saut bacon , onions and garlic for approximately 15 minutes or until the onions are soft', 'mix together the chicken bouillon and water , then add it to the onions , bacon and garlic', 'cook until boiling', 'add potatoes and cook until soft , about half an hour', 'add heavy cream and cook until thoroughly heated', 'stir in the sausage', 'add kale just before serving']</td>\n",
       "      <td>i love the way this soup leaves a pleasant little burn in your mouth without being too hot!</td>\n",
       "      <td>['italian sausage', 'crushed red pepper flakes', 'white onion', 'bacon', 'minced garlic cloves', 'water', 'chicken bouillon cubes', 'heavy cream', 'potatoes', 'fresh kale']</td>\n",
       "      <td>10</td>\n",
       "      <td>3</td>\n",
       "      <td>1699</td>\n",
       "    </tr>\n",
       "    <tr>\n",
       "      <th>231629</th>\n",
       "      <td>zydeco salad</td>\n",
       "      <td>367912</td>\n",
       "      <td>5</td>\n",
       "      <td>79877</td>\n",
       "      <td>2009-04-25</td>\n",
       "      <td>['15-minutes-or-less', 'time-to-make', 'preparation', '5-ingredients-or-less', 'easy', '3-steps-or-less']</td>\n",
       "      <td>[14.1, 0.0, 8.0, 0.0, 1.0, 0.0, 1.0]</td>\n",
       "      <td>4</td>\n",
       "      <td>['place the lettuce on a platter or serving dish', 'top with tomatoes , then the', 'olive salad , then the three-bean salad', 'serve immediately']</td>\n",
       "      <td>recipe courtesy of b&amp;c seafood, vacherie, la adapted from alton brown's cookbook \"feasting on asphalt\".  take this to your next covered-dish dinner or picnic.  finding the italian\\r\\nolive salad-the chopped olive spread that's an essential component of a\\r\\nmuffaletta sandwich-is the trick.  if you can't find it at the megamart do a search on 'zaar, there are many authentic recipes.\\r\\n  if you have minor's kalamata olive base, be sure to use it in the olive spread.  three bean salad: b&amp;c seafood uses \"read\" brand of three-bean salad.  if you can't find it at your grocery store try www.senecafoods.com.  the olive salad and canned beans marry into the lettuce and tomatoes.  zydeco comes from \"les haricorts cont pas sales\", which means \"the beans aren't salty\", an expression for hard times when there wasn't enough salt meat to season the beans.  so this salad, with it's three different beans, is actually zydeco and the musical genre is named after it.  food is facinating stuff.  edited 5-18-09  i just made another batch of this, found a huge jar of the bean salad at costco.  this is so good, i could live on this salad.  you really need to try this one.  i made my olive salad from scratch this time with both kalamata and green olives, and will continue to go this route.</td>\n",
       "      <td>['iceberg lettuce', 'tomatoes', '3 bean mix', 'olive salad']</td>\n",
       "      <td>4</td>\n",
       "      <td>16</td>\n",
       "      <td>1216</td>\n",
       "    </tr>\n",
       "  </tbody>\n",
       "</table>\n",
       "<p>9100 rows × 14 columns</p>\n",
       "</div>"
      ],
      "text/plain": [
       "                                 name      id  minutes  contributor_id  \\\n",
       "42      i yam what i yam  muffins      93958   45       133174           \n",
       "101     to your health  muffins        61973   40       33823            \n",
       "129     250 00 chocolate chip cookies  118843  20       145599           \n",
       "138     lplermagronen                  455351  55       1308592          \n",
       "163     california roll   salad        318677  12       334242           \n",
       "...                         ...           ...  ..          ...           \n",
       "231514  zucchini blueberry bread       263560  95       508997           \n",
       "231539  zucchini parmesan pancakes     70501   26       89831            \n",
       "231547  zucchini salsa burgers         461060  25       178427           \n",
       "231596  zuppa toscana                  217670  75       143946           \n",
       "231629  zydeco salad                   367912  5        79877            \n",
       "\n",
       "         submitted  \\\n",
       "42      2004-06-22   \n",
       "101     2003-05-12   \n",
       "129     2005-04-24   \n",
       "138     2011-05-07   \n",
       "163     2008-08-11   \n",
       "...            ...   \n",
       "231514  2007-11-06   \n",
       "231539  2003-09-04   \n",
       "231547  2011-07-28   \n",
       "231596  2007-03-20   \n",
       "231629  2009-04-25   \n",
       "\n",
       "                                                                                                                                                  tags  \\\n",
       "42      ['60-minutes-or-less', 'time-to-make', 'course', 'preparation', 'breads', 'muffins', 'quick-breads']                                             \n",
       "101     ['60-minutes-or-less', 'time-to-make', 'course', 'preparation', 'breads', 'muffins', 'quick-breads']                                             \n",
       "129     ['30-minutes-or-less', 'time-to-make', 'course', 'preparation', 'drop-cookies', 'desserts', 'easy', 'cookies-and-brownies', '3-steps-or-less']   \n",
       "138     ['60-minutes-or-less', 'time-to-make', 'preparation']                                                                                            \n",
       "163     ['15-minutes-or-less', 'time-to-make', 'course', 'preparation', 'salads']                                                                        \n",
       "...                                                                           ...                                                                        \n",
       "231514  ['time-to-make', 'preparation', 'for-large-groups', 'number-of-servings', '4-hours-or-less']                                                     \n",
       "231539  ['30-minutes-or-less', 'time-to-make', 'course', 'preparation', 'pancakes-and-waffles', 'breakfast', 'dietary']                                  \n",
       "231547  ['30-minutes-or-less', 'time-to-make', 'course', 'preparation', 'main-dish']                                                                     \n",
       "231596  ['time-to-make', 'course', 'preparation', 'soups-stews', '4-hours-or-less']                                                                      \n",
       "231629  ['15-minutes-or-less', 'time-to-make', 'preparation', '5-ingredients-or-less', 'easy', '3-steps-or-less']                                        \n",
       "\n",
       "                                                  nutrition  n_steps  \\\n",
       "42      [171.8, 9.0, 28.0, 10.0, 8.0, 4.0, 8.0]              10        \n",
       "101     [159.0, 8.0, 58.0, 10.0, 7.0, 4.0, 8.0]              5         \n",
       "129     [5286.9, 427.0, 1630.0, 159.0, 163.0, 656.0, 224.0]  3         \n",
       "138     [651.8, 33.0, 12.0, 16.0, 32.0, 63.0, 33.0]          15        \n",
       "163     [455.7, 13.0, 38.0, 72.0, 34.0, 6.0, 26.0]           8         \n",
       "...                                            ...          ..         \n",
       "231514  [311.6, 17.0, 137.0, 10.0, 9.0, 13.0, 16.0]          11        \n",
       "231539  [397.2, 43.0, 15.0, 19.0, 23.0, 51.0, 8.0]           6         \n",
       "231547  [571.0, 47.0, 29.0, 34.0, 59.0, 45.0, 14.0]          8         \n",
       "231596  [631.4, 65.0, 15.0, 70.0, 43.0, 93.0, 13.0]          9         \n",
       "231629  [14.1, 0.0, 8.0, 0.0, 1.0, 0.0, 1.0]                 4         \n",
       "\n",
       "                                                                                                                                                                                                                                                                                                                                                                                                                                                                                                                                                                                                                                                                                                                                                                                                                                                                                                                     steps  \\\n",
       "42      ['preheat oven to 375 degrees', 'spray muffin tin with non-stick cooking spray and set aside', 'place the raisins in a small bowl and pour the 1 / 4 cup boiling water over them', 'cover and set aside while preparing batter', 'combine the flours , cocoa , baking powder , cinnamon , cloves , baking soda , and salt', 'lightly beat eggs with sorghum , oil , mashed yams and orange juice', 'add the egg mixture and buttermilk alternately to the dry ingredients , stir until well blended', 'drain the raisins and add to batter along with orange peel', 'spoon batter into prepared muffin tins , sprinkle 1 / 4 to 1 / 2 tsp of granulated sugar over each muffin', 'bake in preheated oven for 15 to 20 minutes']                                                                                                                                                                                      \n",
       "101     ['blend together in large bowl flour , bran , brown sugar , baking soda , salt , cinnamon , carrots and raisins', 'in second bowl , beat buttermilk , oil , egg and vanilla', 'add liquid ingredients to dry ingredients and mix just until moistened', 'spoon into 12 greased or paper-lined muffin cups', 'bake at 375f for 20 minutes']                                                                                                                                                                                                                                                                                                                                                                                                                                                                                                                                                                           \n",
       "129     ['mix all ingredients together just until blended', 'spoon large tbspfuls onto a baking sheet', 'bake at 350 for 10-14 minutes']                                                                                                                                                                                                                                                                                                                                                                                                                                                                                                                                                                                                                                                                                                                                                                                     \n",
       "138     ['heat oven to 375f set a large pot of salted water to boil', 'heat butter / oil over medium-low heat in a frying pan', 'add onions and fry them until golden brown', 'add penne and potatoes to the salted water', 'stir to make sure pasta doesnt stick together', 'cook until tender , about 15 minutes', 'drain penne and potatoes', 'combine milk / cream with salt and pepper', 'in an ovenproof casserole dish , place 1 / 3 of the penne-potatoes , sprinkle with 1 / 2 of the grated cheese', 'make another layer with 1 / 3 of the penne-potatoes , sprinkle with the other 1 / 2 of the grated cheese', 'top with the remaining 1 / 3 of the penne-potatoes', 'pour the seasoned milk / cream evenly over the top', 'spread the browned onions on top', 'bake covered for 10-15 minutes until steaming hot and cheese is melted', 'serve with warmed applesauce']                                         \n",
       "163     ['prepare rice according to directions', 'pour rice into medium bowl and toss with 1 tbsp vinegar', 'set aside', 'thinly slice cucumber and avacado', 'break up crabmeat into chunks', 'mix lettuce leaves with seasoned rice , cucumber , avocado slices and crabmeat', 'in separate cup , mix together soy sauce and remaining 2 tbl of seasoned rice vinegar', 'drizzle this dressing over salad , and add pickled ginger on top of salad']                                                                                                                                                                                                                                                                                                                                                                                                                                                                       \n",
       "...                                                                                                                                                                                                                                                                                                                                                                                                                                                ...                                                                                                                                                                                                                                                                                                                                                                                                                                                                       \n",
       "231514  ['preheat oven to 350f', 'in a large bowl , combine egg , egg substitute , oil , buttermilk , sugar , zucchini , vanilla , almond extract , and lemon zest', 'sift dry ingredients together and add to zucchini mixture', 'gently fold in blueberries & walnuts', 'pour into 2 greased & floured 8x4-inch bread pans , or one bundt pan', 'bake for 1 1 / 4 hours or until golden brown & toothpick inserted comes out cleanly', 'let cool for about 15 minutes , then invert onto wire rack to cool completely', 'to make glaze: once cake / bread has cooled , melt butter over low heat , then stir in lemon zest and powdered sugar', 'stir in lemon juice , 1 tbsp at a time , until smooth and a good consistency', 'drizzle over cake / bread and sprinkle with freshly grated lemon zest', \"if you are unsure if it is done or not , add a few more minutes - it's almost impossible to over-bake this !\"]   \n",
       "231539  ['in a bowl , combine all ingredients except butter and oil', 'in a skillet , melt butter and oil to medium-high', 'drop zucchini mixture by cupfuls into skillet', 'press lightly to flatten', 'fry until golden brown and crispy , about 2 minutes on each side', 'serve with sour cream if desired']                                                                                                                                                                                                                                                                                                                                                                                                                                                                                                                                                                                                              \n",
       "231547  ['combine ground beef , bread crumbs , egg , zucchini , salsa , onion , chili powder , and cumin', 'shape into 4 patties and refrigerate for at least 30 minutes', 'make sauce by combining mayo , salsa , mustard , chili powder , and cumin in a small bowl', 'cook burgers on a gas grill or george foreman grill until done to your liking , about 4-5 minutes per side', 'toast buns , if desired', 'spread bottom bun with sauce , top with burger , cheese , and toppings of your choice', 'spread more sauce on top bun and put on burger', 'serve with dill pickles and french fries or potato chips']                                                                                                                                                                                                                                                                                                      \n",
       "231596  ['saut italian sausage and crushed red pepper in pot', 'drain excess fat , set aside', 'in the same pan , saut bacon , onions and garlic for approximately 15 minutes or until the onions are soft', 'mix together the chicken bouillon and water , then add it to the onions , bacon and garlic', 'cook until boiling', 'add potatoes and cook until soft , about half an hour', 'add heavy cream and cook until thoroughly heated', 'stir in the sausage', 'add kale just before serving']                                                                                                                                                                                                                                                                                                                                                                                                                         \n",
       "231629  ['place the lettuce on a platter or serving dish', 'top with tomatoes , then the', 'olive salad , then the three-bean salad', 'serve immediately']                                                                                                                                                                                                                                                                                                                                                                                                                                                                                                                                                                                                                                                                                                                                                                   \n",
       "\n",
       "                                                                                                                                                                                                                                                                                                                                                                                                                                                                                                                                                                                                                                                                                                                                                                                                                                                                                                                                                                                                                                                                                                                                                                                                                                                                                                                                    description  \\\n",
       "42      these muffins may have slightly different ingredients but the end result is a wonderful rich, moist muffin. the sugar sprinkled on top before cooking gives a slightly sweet crunch and cracked glazed appearance.                                                                                                                                                                                                                                                                                                                                                                                                                                                                                                                                                                                                                                                                                                                                                                                                                                                                                                                                                                                                                                                                                                                        \n",
       "101     these muffins sound like they are very healthy for you, and pretty easy to make. another one of my great finds. to your health. enjoy                                                                                                                                                                                                                                                                                                                                                                                                                                                                                                                                                                                                                                                                                                                                                                                                                                                                                                                                                                                                                                                                                                                                                                                                     \n",
       "129     these are great! the perfect name for them!                                                                                                                                                                                                                                                                                                                                                                                                                                                                                                                                                                                                                                                                                                                                                                                                                                                                                                                                                                                                                                                                                                                                                                                                                                                                                               \n",
       "138     known as swiss mac n cheese, älplermagronen was traditionally a dish of peasant farmers  served with apple sauce. taken from growchew.wordpress.com and posted for zwt7                                                                                                                                                                                                                                                                                                                                                                                                                                                                                                                                                                                                                                                                                                                                                                                                                                                                                                                                                                                                                                                                                                                                                                   \n",
       "163     this is a great light salad that can be your main meal or a side dish.  if you like the sushi taste minus the raw fish, this one is for you!  it is very easy to throw together.  you can buy pickled ginger at supermarkets in little bowls, usually by where they sell packaged sushi.                                                                                                                                                                                                                                                                                                                                                                                                                                                                                                                                                                                                                                                                                                                                                                                                                                                                                                                                                                                                                                                  \n",
       "...                                                                                                                                                                                                                                                                                          ...                                                                                                                                                                                                                                                                                                                                                                                                                                                                                                                                                                                                                                                                                                                                                                                                                                                                                                                                                                                                                                                  \n",
       "231514  this is my lightened version of recipe #70287. i made it multiple times this summer and it always turned out great - very flavorful & moist. i did find that if you use frozen blueberries, do not thaw them or your batter will turn blue/green! if using frozen, you will need to bake it a little longer as your batter is going into the oven colder. also, if you don't have zucchini, yellow summer squash makes an excellent substitute!                                                                                                                                                                                                                                                                                                                                                                                                                                                                                                                                                                                                                                                                                                                                                                                                                                                                                           \n",
       "231539  if you love zucchini and parmesan cheese, then you will love these delicious pancakes. serve with a side order of sour cream.                                                                                                                                                                                                                                                                                                                                                                                                                                                                                                                                                                                                                                                                                                                                                                                                                                                                                                                                                                                                                                                                                                                                                                                                             \n",
       "231547  this zippy mexican burger is made healthier with added zucchini. your family is going to love this unique burger with it’s crowd-pleasing salsa sauce.                                                                                                                                                                                                                                                                                                                                                                                                                                                                                                                                                                                                                                                                                                                                                                                                                                                                                                                                                                                                                                                                                                                                                                                    \n",
       "231596  i love the way this soup leaves a pleasant little burn in your mouth without being too hot!                                                                                                                                                                                                                                                                                                                                                                                                                                                                                                                                                                                                                                                                                                                                                                                                                                                                                                                                                                                                                                                                                                                                                                                                                                               \n",
       "231629  recipe courtesy of b&c seafood, vacherie, la adapted from alton brown's cookbook \"feasting on asphalt\".  take this to your next covered-dish dinner or picnic.  finding the italian\\r\\nolive salad-the chopped olive spread that's an essential component of a\\r\\nmuffaletta sandwich-is the trick.  if you can't find it at the megamart do a search on 'zaar, there are many authentic recipes.\\r\\n  if you have minor's kalamata olive base, be sure to use it in the olive spread.  three bean salad: b&c seafood uses \"read\" brand of three-bean salad.  if you can't find it at your grocery store try www.senecafoods.com.  the olive salad and canned beans marry into the lettuce and tomatoes.  zydeco comes from \"les haricorts cont pas sales\", which means \"the beans aren't salty\", an expression for hard times when there wasn't enough salt meat to season the beans.  so this salad, with it's three different beans, is actually zydeco and the musical genre is named after it.  food is facinating stuff.  edited 5-18-09  i just made another batch of this, found a huge jar of the bean salad at costco.  this is so good, i could live on this salad.  you really need to try this one.  i made my olive salad from scratch this time with both kalamata and green olives, and will continue to go this route.   \n",
       "\n",
       "                                                                                                                                                                                                                                                                                   ingredients  \\\n",
       "42      ['all-purpose flour', 'buckwheat flour', 'unsweetened cocoa', 'baking powder', 'baking soda', 'salt', 'ground cinnamon', 'ground cloves', 'sorghum', 'eggs', 'yam', 'low-fat buttermilk', 'orange rind', 'orange juice', 'canola oil', 'raisins', 'boiling water', 'granulated sugar']   \n",
       "101     ['whole wheat flour', 'natural bran', 'brown sugar', 'baking soda', 'salt', 'cinnamon', 'carrot', 'raisins', 'buttermilk', 'corn oil', 'egg', 'vanilla']                                                                                                                                 \n",
       "129     ['butter', 'white sugar', 'brown sugar', 'eggs', 'vanilla', 'flour', 'oatmeal', 'salt', 'baking powder', 'baking soda', 'chocolate chips', \"hershey's semi-sweet baking chocolate\", 'nuts']                                                                                              \n",
       "138     ['potato', 'penne pasta', 'onions', 'butter', 'cheese', 'milk', 'salt and pepper', 'applesauce']                                                                                                                                                                                         \n",
       "163     ['white rice', 'seasoned rice vinegar', 'lettuce', 'cucumber', 'avocado', 'imitation crabmeat', 'soy sauce', 'pickled ginger']                                                                                                                                                           \n",
       "...                                                                                                                                ...                                                                                                                                                           \n",
       "231514  ['egg', 'egg substitute', 'canola oil', 'buttermilk', 'sugar', 'zucchini', 'vanilla', 'almond extract', 'lemon zest', 'flour', 'white whole wheat flour', 'baking powder', 'baking soda', 'salt', 'fresh blueberries', 'walnuts', 'butter', 'powdered sugar', 'fresh lemon juice']       \n",
       "231539  ['flour', 'parmesan cheese', 'dried oregano', 'salt and pepper', 'cayenne', 'zucchini', 'egg', 'onion', 'mayonnaise', 'butter', 'oil']                                                                                                                                                   \n",
       "231547  ['ground beef', 'breadcrumbs', 'egg', 'zucchini', 'salsa', 'purple onion', 'chili powder', 'cumin', 'salt and pepper', 'mayonnaise', 'prepared yellow mustard', 'hamburger buns', 'lettuce']                                                                                             \n",
       "231596  ['italian sausage', 'crushed red pepper flakes', 'white onion', 'bacon', 'minced garlic cloves', 'water', 'chicken bouillon cubes', 'heavy cream', 'potatoes', 'fresh kale']                                                                                                             \n",
       "231629  ['iceberg lettuce', 'tomatoes', '3 bean mix', 'olive salad']                                                                                                                                                                                                                             \n",
       "\n",
       "        n_ingredients  emb_KMeans  emb_hierarchical  \n",
       "42      18             17          1442              \n",
       "101     12             17          1442              \n",
       "129     13             1           1469              \n",
       "138     8              3           1649              \n",
       "163     8              16          1216              \n",
       "...    ..              ..           ...              \n",
       "231514  19             14          1232              \n",
       "231539  11             23          1232              \n",
       "231547  13             0           1010              \n",
       "231596  10             3           1699              \n",
       "231629  4              16          1216              \n",
       "\n",
       "[9100 rows x 14 columns]"
      ]
     },
     "execution_count": 46,
     "metadata": {},
     "output_type": "execute_result"
    }
   ],
   "source": [
    "recipes_df[\"emb_hierarchical\"] = hier_emb_labels_recipes\n",
    "recipes_df"
   ]
  },
  {
   "cell_type": "code",
   "execution_count": 47,
   "metadata": {
    "tags": []
   },
   "outputs": [
    {
     "name": "stderr",
     "output_type": "stream",
     "text": [
      "C:\\Users\\cedar\\miniconda3\\envs\\cpsc330\\Lib\\site-packages\\umap\\umap_.py:1952: UserWarning: n_jobs value 1 overridden to 1 by setting random_state. Use no seed for parallelism.\n",
      "  warn(\n"
     ]
    },
    {
     "data": {
      "image/png": "[encoded data removed]",
      "text/plain": [
       "<Figure size 600x500 with 1 Axes>"
      ]
     },
     "metadata": {},
     "output_type": "display_data"
    }
   ],
   "source": [
    "plot_umap_clusters(\n",
    "    emb_recipe_df,\n",
    "    recipes_df[\"emb_hierarchical\"],\n",
    "    title=\"Hiearichal Results for recipes\",\n",
    ")\n"
   ]
  },
  {
   "cell_type": "code",
   "execution_count": null,
   "metadata": {
    "tags": []
   },
   "outputs": [],
   "source": []
  },
  {
   "cell_type": "markdown",
   "metadata": {
    "deletable": false,
    "editable": false
   },
   "source": [
    "<!-- END QUESTION -->\n",
    "\n",
    "<br><br>"
   ]
  },
  {
   "cell_type": "markdown",
   "metadata": {
    "deletable": false,
    "editable": false
   },
   "source": [
    "<!-- BEGIN QUESTION -->\n",
    "\n",
    "### 3.4 Manual interpretation of clusters\n",
    "rubric={points:6}\n",
    "\n",
    "**Your tasks:**\n",
    "\n",
    "1. Label the topics/themes you see in the clusters created by different clustering methods.  \n",
    "2. Do you see a common theme across clusters created by different clustering methods? Do you see any differences between the clusters created by different clustering methods? "
   ]
  },
  {
   "cell_type": "markdown",
   "metadata": {
    "deletable": false,
    "editable": false
   },
   "source": [
    "<div class=\"alert alert-warning\">\n",
    "\n",
    "Solution_3.4\n",
    "    \n",
    "</div>\n",
    "\n",
    "_Points:_ 6"
   ]
  },
  {
   "cell_type": "markdown",
   "metadata": {},
   "source": [
    "_Type your answer here, replacing this text._"
   ]
  },
  {
   "cell_type": "markdown",
   "metadata": {
    "deletable": false,
    "editable": false
   },
   "source": [
    "<!-- END QUESTION -->\n",
    "\n",
    "<br><br><br><br>"
   ]
  },
  {
   "cell_type": "markdown",
   "metadata": {},
   "source": [
    "**Before submitting your assignment, please make sure you have followed all the instructions in the Submission instructions section at the top.** "
   ]
  },
  {
   "cell_type": "markdown",
   "metadata": {},
   "source": [
    "![](img/eva-well-done.png)"
   ]
  }
 ],
 "metadata": {
  "kernelspec": {
   "display_name": "Python [conda env:cpsc330] *",
   "language": "python",
   "name": "conda-env-cpsc330-py"
  },
  "language_info": {
   "codemirror_mode": {
    "name": "ipython",
    "version": 3
   },
   "file_extension": ".py",
   "mimetype": "text/x-python",
   "name": "python",
   "nbconvert_exporter": "python",
   "pygments_lexer": "ipython3",
   "version": "3.12.0"
  },
  "otter": {
   "OK_FORMAT": true,
   "tests": {}
  }
 },
 "nbformat": 4,
 "nbformat_minor": 4
}
